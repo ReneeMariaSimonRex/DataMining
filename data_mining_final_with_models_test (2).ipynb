{
 "cells": [
  {
   "cell_type": "code",
   "execution_count": 2,
   "id": "923c66e5-a647-47f8-9965-0a70c76a20a7",
   "metadata": {},
   "outputs": [],
   "source": [
    "import pandas as pd"
   ]
  },
  {
   "cell_type": "code",
   "execution_count": 4,
   "id": "34b4fe6e-8d00-4844-94c6-3a8caa38d7d6",
   "metadata": {},
   "outputs": [],
   "source": [
    "df1 = pd.read_csv('/Users/ayesha_ishrath/Downloads/dataset1.csv')"
   ]
  },
  {
   "cell_type": "code",
   "execution_count": 6,
   "id": "9e71652e-72c7-40e5-869c-ad83d5e89c76",
   "metadata": {},
   "outputs": [
    {
     "data": {
      "text/html": [
       "<div>\n",
       "<style scoped>\n",
       "    .dataframe tbody tr th:only-of-type {\n",
       "        vertical-align: middle;\n",
       "    }\n",
       "\n",
       "    .dataframe tbody tr th {\n",
       "        vertical-align: top;\n",
       "    }\n",
       "\n",
       "    .dataframe thead th {\n",
       "        text-align: right;\n",
       "    }\n",
       "</style>\n",
       "<table border=\"1\" class=\"dataframe\">\n",
       "  <thead>\n",
       "    <tr style=\"text-align: right;\">\n",
       "      <th></th>\n",
       "      <th>cms_vertical</th>\n",
       "      <th>price_bucket</th>\n",
       "      <th>brand</th>\n",
       "      <th>seller_id</th>\n",
       "      <th>seller_city</th>\n",
       "      <th>display_name</th>\n",
       "      <th>darwin_tier</th>\n",
       "      <th>analytic_business_unit</th>\n",
       "      <th>analytic_super_category</th>\n",
       "      <th>analytic_category</th>\n",
       "      <th>analytic_vertical</th>\n",
       "      <th>status</th>\n",
       "      <th>unit_creation_month</th>\n",
       "      <th>unit_creation_year</th>\n",
       "      <th>orders</th>\n",
       "      <th>units</th>\n",
       "      <th>gmv</th>\n",
       "    </tr>\n",
       "  </thead>\n",
       "  <tbody>\n",
       "    <tr>\n",
       "      <th>0</th>\n",
       "      <td>NaN</td>\n",
       "      <td>150-200</td>\n",
       "      <td>NaN</td>\n",
       "      <td>2589ef37bdfa4d2c</td>\n",
       "      <td>NEW DELHI</td>\n",
       "      <td>ALIZAENTERPRISE01</td>\n",
       "      <td>t3</td>\n",
       "      <td>NaN</td>\n",
       "      <td>NaN</td>\n",
       "      <td>NaN</td>\n",
       "      <td>NaN</td>\n",
       "      <td>DELIVERED</td>\n",
       "      <td>11.0</td>\n",
       "      <td>2023.0</td>\n",
       "      <td>1.0</td>\n",
       "      <td>1.0</td>\n",
       "      <td>239.0</td>\n",
       "    </tr>\n",
       "    <tr>\n",
       "      <th>1</th>\n",
       "      <td>NaN</td>\n",
       "      <td>500+</td>\n",
       "      <td>NaN</td>\n",
       "      <td>5113ab3a0fb44483</td>\n",
       "      <td>HYDERABAD</td>\n",
       "      <td>REUELENT</td>\n",
       "      <td>t3</td>\n",
       "      <td>NaN</td>\n",
       "      <td>NaN</td>\n",
       "      <td>NaN</td>\n",
       "      <td>NaN</td>\n",
       "      <td>DELIVERED</td>\n",
       "      <td>5.0</td>\n",
       "      <td>2024.0</td>\n",
       "      <td>2.0</td>\n",
       "      <td>2.0</td>\n",
       "      <td>1614.0</td>\n",
       "    </tr>\n",
       "    <tr>\n",
       "      <th>2</th>\n",
       "      <td>ab_exerciser</td>\n",
       "      <td>500+</td>\n",
       "      <td>3 Leaf</td>\n",
       "      <td>34badc6f2f384c36</td>\n",
       "      <td>NEW DELHI</td>\n",
       "      <td>3LEAF</td>\n",
       "      <td>t3</td>\n",
       "      <td>BGM</td>\n",
       "      <td>SportFitness</td>\n",
       "      <td>ExerciseAndFitness</td>\n",
       "      <td>AbExerciser</td>\n",
       "      <td>RETURNED</td>\n",
       "      <td>4.0</td>\n",
       "      <td>2024.0</td>\n",
       "      <td>1.0</td>\n",
       "      <td>1.0</td>\n",
       "      <td>1709.0</td>\n",
       "    </tr>\n",
       "    <tr>\n",
       "      <th>3</th>\n",
       "      <td>ab_exerciser</td>\n",
       "      <td>300-400</td>\n",
       "      <td>AADCART</td>\n",
       "      <td>e65ac17f44504602</td>\n",
       "      <td>SURAT</td>\n",
       "      <td>PANSHIBUCKETMALL</td>\n",
       "      <td>t3</td>\n",
       "      <td>BGM</td>\n",
       "      <td>SportFitness</td>\n",
       "      <td>ExerciseAndFitness</td>\n",
       "      <td>AbExerciser</td>\n",
       "      <td>RETURNED</td>\n",
       "      <td>7.0</td>\n",
       "      <td>2024.0</td>\n",
       "      <td>1.0</td>\n",
       "      <td>1.0</td>\n",
       "      <td>365.0</td>\n",
       "    </tr>\n",
       "    <tr>\n",
       "      <th>4</th>\n",
       "      <td>ab_exerciser</td>\n",
       "      <td>300-400</td>\n",
       "      <td>ACM</td>\n",
       "      <td>455c79bdafc643aa</td>\n",
       "      <td>JODHPUR</td>\n",
       "      <td>OnlineNet01</td>\n",
       "      <td>t3</td>\n",
       "      <td>BGM</td>\n",
       "      <td>SportFitness</td>\n",
       "      <td>ExerciseAndFitness</td>\n",
       "      <td>AbExerciser</td>\n",
       "      <td>DELIVERED</td>\n",
       "      <td>2.0</td>\n",
       "      <td>2023.0</td>\n",
       "      <td>1.0</td>\n",
       "      <td>1.0</td>\n",
       "      <td>380.0</td>\n",
       "    </tr>\n",
       "  </tbody>\n",
       "</table>\n",
       "</div>"
      ],
      "text/plain": [
       "   cms_vertical price_bucket    brand         seller_id seller_city  \\\n",
       "0           NaN      150-200      NaN  2589ef37bdfa4d2c   NEW DELHI   \n",
       "1           NaN         500+      NaN  5113ab3a0fb44483   HYDERABAD   \n",
       "2  ab_exerciser         500+   3 Leaf  34badc6f2f384c36   NEW DELHI   \n",
       "3  ab_exerciser      300-400  AADCART  e65ac17f44504602       SURAT   \n",
       "4  ab_exerciser      300-400      ACM  455c79bdafc643aa     JODHPUR   \n",
       "\n",
       "        display_name darwin_tier analytic_business_unit  \\\n",
       "0  ALIZAENTERPRISE01          t3                    NaN   \n",
       "1           REUELENT          t3                    NaN   \n",
       "2              3LEAF          t3                    BGM   \n",
       "3   PANSHIBUCKETMALL          t3                    BGM   \n",
       "4        OnlineNet01          t3                    BGM   \n",
       "\n",
       "  analytic_super_category   analytic_category analytic_vertical     status  \\\n",
       "0                     NaN                 NaN               NaN  DELIVERED   \n",
       "1                     NaN                 NaN               NaN  DELIVERED   \n",
       "2            SportFitness  ExerciseAndFitness       AbExerciser   RETURNED   \n",
       "3            SportFitness  ExerciseAndFitness       AbExerciser   RETURNED   \n",
       "4            SportFitness  ExerciseAndFitness       AbExerciser  DELIVERED   \n",
       "\n",
       "   unit_creation_month  unit_creation_year  orders  units     gmv  \n",
       "0                 11.0              2023.0     1.0    1.0   239.0  \n",
       "1                  5.0              2024.0     2.0    2.0  1614.0  \n",
       "2                  4.0              2024.0     1.0    1.0  1709.0  \n",
       "3                  7.0              2024.0     1.0    1.0   365.0  \n",
       "4                  2.0              2023.0     1.0    1.0   380.0  "
      ]
     },
     "execution_count": 6,
     "metadata": {},
     "output_type": "execute_result"
    }
   ],
   "source": [
    "df1.head()"
   ]
  },
  {
   "cell_type": "code",
   "execution_count": 8,
   "id": "e968a5b7-7d4f-4bb7-95a6-1c2b4f0a4995",
   "metadata": {},
   "outputs": [
    {
     "data": {
      "text/plain": [
       "(56118563, 17)"
      ]
     },
     "execution_count": 8,
     "metadata": {},
     "output_type": "execute_result"
    }
   ],
   "source": [
    "df1.shape"
   ]
  },
  {
   "cell_type": "code",
   "execution_count": 10,
   "id": "40ab3537-3244-49f6-9394-936125a5a293",
   "metadata": {},
   "outputs": [
    {
     "name": "stdout",
     "output_type": "stream",
     "text": [
      "<class 'pandas.core.frame.DataFrame'>\n",
      "RangeIndex: 56118563 entries, 0 to 56118562\n",
      "Data columns (total 17 columns):\n",
      " #   Column                   Dtype  \n",
      "---  ------                   -----  \n",
      " 0   cms_vertical             object \n",
      " 1   price_bucket             object \n",
      " 2   brand                    object \n",
      " 3   seller_id                object \n",
      " 4   seller_city              object \n",
      " 5   display_name             object \n",
      " 6   darwin_tier              object \n",
      " 7   analytic_business_unit   object \n",
      " 8   analytic_super_category  object \n",
      " 9   analytic_category        object \n",
      " 10  analytic_vertical        object \n",
      " 11  status                   object \n",
      " 12  unit_creation_month      float64\n",
      " 13  unit_creation_year       float64\n",
      " 14  orders                   float64\n",
      " 15  units                    float64\n",
      " 16  gmv                      float64\n",
      "dtypes: float64(5), object(12)\n",
      "memory usage: 7.1+ GB\n"
     ]
    }
   ],
   "source": [
    "df1.info()"
   ]
  },
  {
   "cell_type": "code",
   "execution_count": 12,
   "id": "e859b610-a3c0-4c46-be51-c16efc30fb17",
   "metadata": {},
   "outputs": [],
   "source": [
    "df2 = pd.read_csv('/Users/ayesha_ishrath/Downloads/dataset2csv.csv')"
   ]
  },
  {
   "cell_type": "code",
   "execution_count": 14,
   "id": "31f95b5a-e208-4941-bf22-803fa9f54e90",
   "metadata": {},
   "outputs": [
    {
     "data": {
      "text/plain": [
       "(71731038, 17)"
      ]
     },
     "execution_count": 14,
     "metadata": {},
     "output_type": "execute_result"
    }
   ],
   "source": [
    "df2.shape"
   ]
  },
  {
   "cell_type": "code",
   "execution_count": 16,
   "id": "c06cd218-b4c5-4de2-99fe-6fc605e5a785",
   "metadata": {},
   "outputs": [
    {
     "name": "stdout",
     "output_type": "stream",
     "text": [
      "<class 'pandas.core.frame.DataFrame'>\n",
      "RangeIndex: 71731038 entries, 0 to 71731037\n",
      "Data columns (total 17 columns):\n",
      " #   Column                   Dtype  \n",
      "---  ------                   -----  \n",
      " 0   cms_vertical             object \n",
      " 1   price_bucket             object \n",
      " 2   brand                    object \n",
      " 3   seller_id                object \n",
      " 4   seller_city              object \n",
      " 5   display_name             object \n",
      " 6   darwin_tier              object \n",
      " 7   analytic_business_unit   object \n",
      " 8   analytic_super_category  object \n",
      " 9   analytic_category        object \n",
      " 10  analytic_vertical        object \n",
      " 11  status                   object \n",
      " 12  unit_creation_month      float64\n",
      " 13  unit_creation_year       float64\n",
      " 14  orders                   float64\n",
      " 15  units                    float64\n",
      " 16  gmv                      float64\n",
      "dtypes: float64(5), object(12)\n",
      "memory usage: 9.1+ GB\n"
     ]
    }
   ],
   "source": [
    "df2.info()"
   ]
  },
  {
   "cell_type": "code",
   "execution_count": 18,
   "id": "573803e8-fa7c-49cc-850c-102a7f0bbd89",
   "metadata": {},
   "outputs": [],
   "source": [
    "columns_to_group_by = [\n",
    "    'analytic_business_unit', 'analytic_super_category',\n",
    "    'analytic_category', 'analytic_vertical','cms_vertical','price_bucket',\n",
    "    'unit_creation_month', 'unit_creation_year'\n",
    "]"
   ]
  },
  {
   "cell_type": "code",
   "execution_count": 20,
   "id": "7b5bcd71-41ba-4e40-941e-d1a63a1510f8",
   "metadata": {},
   "outputs": [],
   "source": [
    "#aggregations to remove unnecessary columns\n",
    "df1_reduced = df1.groupby(columns_to_group_by, as_index=False)[['orders', 'units', 'gmv']].sum()"
   ]
  },
  {
   "cell_type": "code",
   "execution_count": 21,
   "id": "f12eb100-a624-42c4-a1aa-16382a42b4e2",
   "metadata": {},
   "outputs": [
    {
     "name": "stdout",
     "output_type": "stream",
     "text": [
      "<class 'pandas.core.frame.DataFrame'>\n",
      "RangeIndex: 460693 entries, 0 to 460692\n",
      "Data columns (total 11 columns):\n",
      " #   Column                   Non-Null Count   Dtype  \n",
      "---  ------                   --------------   -----  \n",
      " 0   analytic_business_unit   460693 non-null  object \n",
      " 1   analytic_super_category  460693 non-null  object \n",
      " 2   analytic_category        460693 non-null  object \n",
      " 3   analytic_vertical        460693 non-null  object \n",
      " 4   cms_vertical             460693 non-null  object \n",
      " 5   price_bucket             460693 non-null  object \n",
      " 6   unit_creation_month      460693 non-null  float64\n",
      " 7   unit_creation_year       460693 non-null  float64\n",
      " 8   orders                   460693 non-null  float64\n",
      " 9   units                    460693 non-null  float64\n",
      " 10  gmv                      460693 non-null  float64\n",
      "dtypes: float64(5), object(6)\n",
      "memory usage: 38.7+ MB\n"
     ]
    }
   ],
   "source": [
    "df1_reduced.info()"
   ]
  },
  {
   "cell_type": "code",
   "execution_count": 24,
   "id": "b1d03e31-1cab-4bd4-9b2a-156f06e0741c",
   "metadata": {},
   "outputs": [],
   "source": [
    "#aggregations to remove unnecessary columns on set2\n",
    "df2_reduced = df2.groupby(columns_to_group_by, as_index=False)[['orders', 'units', 'gmv']].sum()\n"
   ]
  },
  {
   "cell_type": "code",
   "execution_count": 25,
   "id": "7dc5f963-3f38-4157-b868-b32064204882",
   "metadata": {},
   "outputs": [
    {
     "name": "stdout",
     "output_type": "stream",
     "text": [
      "<class 'pandas.core.frame.DataFrame'>\n",
      "RangeIndex: 652073 entries, 0 to 652072\n",
      "Data columns (total 11 columns):\n",
      " #   Column                   Non-Null Count   Dtype  \n",
      "---  ------                   --------------   -----  \n",
      " 0   analytic_business_unit   652073 non-null  object \n",
      " 1   analytic_super_category  652073 non-null  object \n",
      " 2   analytic_category        652073 non-null  object \n",
      " 3   analytic_vertical        652073 non-null  object \n",
      " 4   cms_vertical             652073 non-null  object \n",
      " 5   price_bucket             652073 non-null  object \n",
      " 6   unit_creation_month      652073 non-null  float64\n",
      " 7   unit_creation_year       652073 non-null  float64\n",
      " 8   orders                   652073 non-null  float64\n",
      " 9   units                    652073 non-null  float64\n",
      " 10  gmv                      652073 non-null  float64\n",
      "dtypes: float64(5), object(6)\n",
      "memory usage: 54.7+ MB\n"
     ]
    }
   ],
   "source": [
    "df2_reduced.info()"
   ]
  },
  {
   "cell_type": "code",
   "execution_count": 28,
   "id": "ff6eacdc-4c28-4cf2-a777-72dfbbb3d73c",
   "metadata": {},
   "outputs": [],
   "source": [
    "df = pd.concat([df1_reduced, df2_reduced], ignore_index=True)"
   ]
  },
  {
   "cell_type": "code",
   "execution_count": 30,
   "id": "3b7d47e9-89d3-43be-8500-82e0d94c94d4",
   "metadata": {},
   "outputs": [
    {
     "data": {
      "text/plain": [
       "(1112766, 11)"
      ]
     },
     "execution_count": 30,
     "metadata": {},
     "output_type": "execute_result"
    }
   ],
   "source": [
    "df.shape"
   ]
  },
  {
   "cell_type": "code",
   "execution_count": 32,
   "id": "91f67fbd-cde0-4b31-9e83-287a5ea6e760",
   "metadata": {},
   "outputs": [
    {
     "name": "stdout",
     "output_type": "stream",
     "text": [
      "<class 'pandas.core.frame.DataFrame'>\n",
      "RangeIndex: 1112766 entries, 0 to 1112765\n",
      "Data columns (total 11 columns):\n",
      " #   Column                   Non-Null Count    Dtype  \n",
      "---  ------                   --------------    -----  \n",
      " 0   analytic_business_unit   1112766 non-null  object \n",
      " 1   analytic_super_category  1112766 non-null  object \n",
      " 2   analytic_category        1112766 non-null  object \n",
      " 3   analytic_vertical        1112766 non-null  object \n",
      " 4   cms_vertical             1112766 non-null  object \n",
      " 5   price_bucket             1112766 non-null  object \n",
      " 6   unit_creation_month      1112766 non-null  float64\n",
      " 7   unit_creation_year       1112766 non-null  float64\n",
      " 8   orders                   1112766 non-null  float64\n",
      " 9   units                    1112766 non-null  float64\n",
      " 10  gmv                      1112766 non-null  float64\n",
      "dtypes: float64(5), object(6)\n",
      "memory usage: 93.4+ MB\n"
     ]
    }
   ],
   "source": [
    "df.info()"
   ]
  },
  {
   "cell_type": "code",
   "execution_count": 34,
   "id": "e49ef2ff-6d47-47cd-ab23-c732011e364c",
   "metadata": {},
   "outputs": [],
   "source": [
    "df.to_csv('/Users/ayesha_ishrath/Downloads/combined_new.csv')"
   ]
  },
  {
   "cell_type": "code",
   "execution_count": 36,
   "id": "57852ded-3836-4baf-a457-e374f4a0e245",
   "metadata": {},
   "outputs": [],
   "source": [
    "unique_price_buckets = df['price_bucket'].unique()"
   ]
  },
  {
   "cell_type": "code",
   "execution_count": 38,
   "id": "ab203e67-d0db-4c92-a52e-c65ddaa2d7af",
   "metadata": {},
   "outputs": [
    {
     "data": {
      "text/plain": [
       "array(['0-100', '100-150', '150-200', '200-300', '300-400', '400-500',\n",
       "       '500+'], dtype=object)"
      ]
     },
     "execution_count": 38,
     "metadata": {},
     "output_type": "execute_result"
    }
   ],
   "source": [
    "unique_price_buckets"
   ]
  },
  {
   "cell_type": "code",
   "execution_count": 40,
   "id": "ee62ee94-c3df-4586-a698-36dc2dbbc9f6",
   "metadata": {},
   "outputs": [],
   "source": [
    " #Reduce price buckets for better visualization\n",
    "mapping = {\n",
    "    '0-100': '0-300',\n",
    "    '100-150': '0-300',\n",
    "    '150-200': '0-300',\n",
    "    '200-300': '0-300',\n",
    "    '300-400': '300-500',\n",
    "    '400-500': '300-500',\n",
    "    '500+': '500+'\n",
    "}\n",
    "\n",
    "df['price_bucket'] = df['price_bucket'].replace(mapping)\n"
   ]
  },
  {
   "cell_type": "code",
   "execution_count": 42,
   "id": "a59a0d17-6322-4c52-a89a-b675ca5eff69",
   "metadata": {},
   "outputs": [
    {
     "data": {
      "text/plain": [
       "array(['0-300', '300-500', '500+'], dtype=object)"
      ]
     },
     "execution_count": 42,
     "metadata": {},
     "output_type": "execute_result"
    }
   ],
   "source": [
    "unique_price_buckets = df['price_bucket'].unique()\n",
    "unique_price_buckets"
   ]
  },
  {
   "cell_type": "code",
   "execution_count": 44,
   "id": "7ae50a19-71a5-4cf7-a583-8e00ba2ecda7",
   "metadata": {},
   "outputs": [],
   "source": [
    "#Removing NaN and null values\n",
    "df = df.dropna()"
   ]
  },
  {
   "cell_type": "code",
   "execution_count": 46,
   "id": "14e20ac7-4731-412e-bc33-ddded3093dad",
   "metadata": {},
   "outputs": [
    {
     "data": {
      "text/plain": [
       "(1112766, 11)"
      ]
     },
     "execution_count": 46,
     "metadata": {},
     "output_type": "execute_result"
    }
   ],
   "source": [
    "df.shape"
   ]
  },
  {
   "cell_type": "code",
   "execution_count": 48,
   "id": "f0ddb865-16f7-4f3e-ae1d-37a449d247b3",
   "metadata": {},
   "outputs": [],
   "source": [
    "#final file for visulaization\n",
    "df.to_csv('/Users/ayesha_ishrath/Downloads/final_mining_file_new.csv')"
   ]
  },
  {
   "cell_type": "code",
   "execution_count": 50,
   "id": "3d638153-3eae-40b6-83b8-58480ade4ea8",
   "metadata": {},
   "outputs": [
    {
     "data": {
      "text/plain": [
       "<bound method NDFrame.head of         analytic_business_unit analytic_super_category analytic_category  \\\n",
       "0                          BGM          AutoAccessorys     AutoAccessory   \n",
       "1                          BGM          AutoAccessorys     AutoAccessory   \n",
       "2                          BGM          AutoAccessorys     AutoAccessory   \n",
       "3                          BGM          AutoAccessorys     AutoAccessory   \n",
       "4                          BGM          AutoAccessorys     AutoAccessory   \n",
       "...                        ...                     ...               ...   \n",
       "1112761                 Shopsy            ShopsyMobile      ShopsyMobile   \n",
       "1112762                 Shopsy            ShopsyMobile      ShopsyMobile   \n",
       "1112763                TestNDC                 TestNDC           TestNDC   \n",
       "1112764                TestNDC                 TestNDC           TestNDC   \n",
       "1112765                TestNDC                 TestNDC           TestNDC   \n",
       "\n",
       "        analytic_vertical      cms_vertical price_bucket  unit_creation_month  \\\n",
       "0           AutoAccessory  automotive_combo        0-300                  3.0   \n",
       "1           AutoAccessory  automotive_combo        0-300                  4.0   \n",
       "2           AutoAccessory  automotive_combo        0-300                  5.0   \n",
       "3           AutoAccessory  automotive_combo        0-300                  7.0   \n",
       "4           AutoAccessory  automotive_combo        0-300                  8.0   \n",
       "...                   ...               ...          ...                  ...   \n",
       "1112761     ShopsyHandset     shopsy_mobile         500+                  9.0   \n",
       "1112762     ShopsyHandset     shopsy_mobile         500+                 11.0   \n",
       "1112763           TestNDC          services        0-300                  7.0   \n",
       "1112764           TestNDC          services        0-300                  8.0   \n",
       "1112765           TestNDC          test_ndc        0-300                  9.0   \n",
       "\n",
       "         unit_creation_year  orders  units       gmv  \n",
       "0                    2024.0     1.0    3.0     302.0  \n",
       "1                    2023.0     1.0    1.0      99.0  \n",
       "2                    2023.0     1.0    1.0     159.0  \n",
       "3                    2024.0     1.0    1.0      75.0  \n",
       "4                    2024.0    12.0   12.0    1169.0  \n",
       "...                     ...     ...    ...       ...  \n",
       "1112761              2022.0     4.0    4.0   15136.0  \n",
       "1112762              2022.0    17.0   17.0  117953.0  \n",
       "1112763              2022.0     1.0    1.0     299.0  \n",
       "1112764              2022.0     5.0    5.0    1495.0  \n",
       "1112765              2020.0     1.0    1.0     140.0  \n",
       "\n",
       "[1112766 rows x 11 columns]>"
      ]
     },
     "execution_count": 50,
     "metadata": {},
     "output_type": "execute_result"
    }
   ],
   "source": [
    "df.head"
   ]
  },
  {
   "cell_type": "code",
   "execution_count": 52,
   "id": "10474fb5-02aa-4add-aff1-dc8c096aeeae",
   "metadata": {},
   "outputs": [],
   "source": [
    "# Convert `unit_creation_month` and `unit_creation_year` into a proper datetime format\n",
    "df['date'] = pd.to_datetime(df['unit_creation_year'].astype(int).astype(str) + '-' +\n",
    "                            df['unit_creation_month'].astype(int).astype(str) + '-01')"
   ]
  },
  {
   "cell_type": "code",
   "execution_count": 54,
   "id": "a2dcd548-115d-4fb7-abe1-7329fab78a6f",
   "metadata": {},
   "outputs": [],
   "source": [
    "# Drop redundant columns\n",
    "df.drop(columns=['unit_creation_month', 'unit_creation_year'], inplace=True)"
   ]
  },
  {
   "cell_type": "code",
   "execution_count": 56,
   "id": "db1039a7-108f-4850-8c31-367d05825784",
   "metadata": {},
   "outputs": [],
   "source": [
    "# Aggregate data at a monthly level (summarizing by key business features)\n",
    "df_aggregated = df.groupby(['date', 'analytic_business_unit', 'analytic_super_category', \n",
    "                            'analytic_category', 'analytic_vertical', 'cms_vertical', 'price_bucket']).agg(\n",
    "    {'orders': 'sum', 'units': 'sum', 'gmv': 'sum'}\n",
    ").reset_index()"
   ]
  },
  {
   "cell_type": "code",
   "execution_count": 58,
   "id": "af55882f-184e-4a4a-bb02-a24c5658c704",
   "metadata": {},
   "outputs": [],
   "source": [
    "# Feature Engineering\n",
    "df_aggregated['month'] = df_aggregated['date'].dt.month\n",
    "df_aggregated['year'] = df_aggregated['date'].dt.year"
   ]
  },
  {
   "cell_type": "code",
   "execution_count": 60,
   "id": "fb77364f-8aea-4262-8165-ced2b46749b5",
   "metadata": {},
   "outputs": [],
   "source": [
    "# Sort data by date\n",
    "df_aggregated = df_aggregated.sort_values(by=['date'])"
   ]
  },
  {
   "cell_type": "code",
   "execution_count": null,
   "id": "f5a805ef-d6e2-4a62-9746-6f6d95cf4ca9",
   "metadata": {},
   "outputs": [],
   "source": []
  },
  {
   "cell_type": "code",
   "execution_count": null,
   "id": "79b7a6d2-0603-453e-bd13-6941d68cd7d0",
   "metadata": {},
   "outputs": [],
   "source": []
  },
  {
   "cell_type": "code",
   "execution_count": null,
   "id": "cbed4623-a80f-43fc-8cd4-79ba1ca40f16",
   "metadata": {},
   "outputs": [],
   "source": []
  },
  {
   "cell_type": "code",
   "execution_count": 62,
   "id": "cf1821a6-d5a6-4c58-b99c-e9f0ea969b43",
   "metadata": {},
   "outputs": [],
   "source": [
    " #Create Lag Features (Previous month's sales data)\n",
    "df_aggregated['orders_lag_1'] = df_aggregated.groupby(['analytic_business_unit', 'analytic_super_category', \n",
    "                                                       'analytic_category', 'analytic_vertical', 'cms_vertical', \n",
    "                                                       'price_bucket'])['orders'].shift(1)"
   ]
  },
  {
   "cell_type": "code",
   "execution_count": 64,
   "id": "8890229a-f5e8-45a3-9f8b-07ea76a9c79b",
   "metadata": {},
   "outputs": [],
   "source": [
    "df_aggregated['units_lag_1'] = df_aggregated.groupby(['analytic_business_unit', 'analytic_super_category', \n",
    "                                                      'analytic_category', 'analytic_vertical', 'cms_vertical', \n",
    "                                                      'price_bucket'])['units'].shift(1)\n",
    "\n",
    "df_aggregated['gmv_lag_1'] = df_aggregated.groupby(['analytic_business_unit', 'analytic_super_category', \n",
    "                                                    'analytic_category', 'analytic_vertical', 'cms_vertical', \n",
    "                                                    'price_bucket'])['gmv'].shift(1)"
   ]
  },
  {
   "cell_type": "code",
   "execution_count": 66,
   "id": "39998c99-a5b0-4718-b347-89e8339b5e5d",
   "metadata": {},
   "outputs": [],
   "source": [
    "# Create Moving Average Features (3-month rolling average)\n",
    "df_aggregated['orders_ma_3'] = df_aggregated.groupby(['analytic_business_unit', 'analytic_super_category', \n",
    "                                                      'analytic_category', 'analytic_vertical', 'cms_vertical', \n",
    "                                                      'price_bucket'])['orders'].transform(lambda x: x.rolling(3, min_periods=1).mean())\n",
    "\n",
    "df_aggregated['units_ma_3'] = df_aggregated.groupby(['analytic_business_unit', 'analytic_super_category', \n",
    "                                                     'analytic_category', 'analytic_vertical', 'cms_vertical', \n",
    "                                                     'price_bucket'])['units'].transform(lambda x: x.rolling(3, min_periods=1).mean())\n",
    "\n",
    "df_aggregated['gmv_ma_3'] = df_aggregated.groupby(['analytic_business_unit', 'analytic_super_category', \n",
    "                                                   'analytic_category', 'analytic_vertical', 'cms_vertical', \n",
    "                                                   'price_bucket'])['gmv'].transform(lambda x: x.rolling(3, min_periods=1).mean())"
   ]
  },
  {
   "cell_type": "code",
   "execution_count": 68,
   "id": "1c73b19e-ea91-4c62-b903-9a75c21df427",
   "metadata": {},
   "outputs": [],
   "source": [
    "# Drop rows with NaN values (due to lag features)\n",
    "df_aggregated.dropna(inplace=True)\n",
    "\n",
    "# Save processed data\n",
    "df_aggregated.to_csv(\"processed_sales_data.csv\")\n"
   ]
  },
  {
   "cell_type": "code",
   "execution_count": 70,
   "id": "744b2e64-6d29-4660-acaf-d012c32c3f67",
   "metadata": {},
   "outputs": [],
   "source": [
    "df_sampled = df_aggregated"
   ]
  },
  {
   "cell_type": "code",
   "execution_count": 72,
   "id": "d080b93f-9cf0-42e0-b37d-98cf5275fea6",
   "metadata": {},
   "outputs": [
    {
     "data": {
      "text/html": [
       "<div>\n",
       "<style scoped>\n",
       "    .dataframe tbody tr th:only-of-type {\n",
       "        vertical-align: middle;\n",
       "    }\n",
       "\n",
       "    .dataframe tbody tr th {\n",
       "        vertical-align: top;\n",
       "    }\n",
       "\n",
       "    .dataframe thead th {\n",
       "        text-align: right;\n",
       "    }\n",
       "</style>\n",
       "<table border=\"1\" class=\"dataframe\">\n",
       "  <thead>\n",
       "    <tr style=\"text-align: right;\">\n",
       "      <th></th>\n",
       "      <th>date</th>\n",
       "      <th>analytic_business_unit</th>\n",
       "      <th>analytic_super_category</th>\n",
       "      <th>analytic_category</th>\n",
       "      <th>analytic_vertical</th>\n",
       "      <th>cms_vertical</th>\n",
       "      <th>price_bucket</th>\n",
       "      <th>orders</th>\n",
       "      <th>units</th>\n",
       "      <th>gmv</th>\n",
       "      <th>month</th>\n",
       "      <th>year</th>\n",
       "      <th>orders_lag_1</th>\n",
       "      <th>units_lag_1</th>\n",
       "      <th>gmv_lag_1</th>\n",
       "      <th>orders_ma_3</th>\n",
       "      <th>units_ma_3</th>\n",
       "      <th>gmv_ma_3</th>\n",
       "    </tr>\n",
       "  </thead>\n",
       "  <tbody>\n",
       "    <tr>\n",
       "      <th>14761</th>\n",
       "      <td>2020-02-01</td>\n",
       "      <td>Home</td>\n",
       "      <td>HomeImprovementTool</td>\n",
       "      <td>HomeAndUtility</td>\n",
       "      <td>ApplianceKnob</td>\n",
       "      <td>appliance_knob</td>\n",
       "      <td>0-300</td>\n",
       "      <td>169.0</td>\n",
       "      <td>179.0</td>\n",
       "      <td>39656.0</td>\n",
       "      <td>2</td>\n",
       "      <td>2020</td>\n",
       "      <td>166.0</td>\n",
       "      <td>176.0</td>\n",
       "      <td>37531.0</td>\n",
       "      <td>167.5</td>\n",
       "      <td>177.5</td>\n",
       "      <td>38593.5</td>\n",
       "    </tr>\n",
       "    <tr>\n",
       "      <th>14751</th>\n",
       "      <td>2020-02-01</td>\n",
       "      <td>Home</td>\n",
       "      <td>HomeImprovementTool</td>\n",
       "      <td>FittingsAndFixtures</td>\n",
       "      <td>WaterPump</td>\n",
       "      <td>water_pump</td>\n",
       "      <td>300-500</td>\n",
       "      <td>1118.0</td>\n",
       "      <td>1180.0</td>\n",
       "      <td>525481.0</td>\n",
       "      <td>2</td>\n",
       "      <td>2020</td>\n",
       "      <td>758.0</td>\n",
       "      <td>816.0</td>\n",
       "      <td>365090.0</td>\n",
       "      <td>938.0</td>\n",
       "      <td>998.0</td>\n",
       "      <td>445285.5</td>\n",
       "    </tr>\n",
       "    <tr>\n",
       "      <th>14752</th>\n",
       "      <td>2020-02-01</td>\n",
       "      <td>Home</td>\n",
       "      <td>HomeImprovementTool</td>\n",
       "      <td>FittingsAndFixtures</td>\n",
       "      <td>WaterPump</td>\n",
       "      <td>water_pump</td>\n",
       "      <td>500+</td>\n",
       "      <td>1627.0</td>\n",
       "      <td>1663.0</td>\n",
       "      <td>3904025.0</td>\n",
       "      <td>2</td>\n",
       "      <td>2020</td>\n",
       "      <td>1593.0</td>\n",
       "      <td>1618.0</td>\n",
       "      <td>3698304.0</td>\n",
       "      <td>1610.0</td>\n",
       "      <td>1640.5</td>\n",
       "      <td>3801164.5</td>\n",
       "    </tr>\n",
       "    <tr>\n",
       "      <th>14754</th>\n",
       "      <td>2020-02-01</td>\n",
       "      <td>Home</td>\n",
       "      <td>HomeImprovementTool</td>\n",
       "      <td>FittingsAndFixtures</td>\n",
       "      <td>WoodBlock</td>\n",
       "      <td>wood_block</td>\n",
       "      <td>0-300</td>\n",
       "      <td>11.0</td>\n",
       "      <td>12.0</td>\n",
       "      <td>2388.0</td>\n",
       "      <td>2</td>\n",
       "      <td>2020</td>\n",
       "      <td>6.0</td>\n",
       "      <td>9.0</td>\n",
       "      <td>1791.0</td>\n",
       "      <td>8.5</td>\n",
       "      <td>10.5</td>\n",
       "      <td>2089.5</td>\n",
       "    </tr>\n",
       "    <tr>\n",
       "      <th>14755</th>\n",
       "      <td>2020-02-01</td>\n",
       "      <td>Home</td>\n",
       "      <td>HomeImprovementTool</td>\n",
       "      <td>FittingsAndFixtures</td>\n",
       "      <td>WoodStain</td>\n",
       "      <td>wood_stain</td>\n",
       "      <td>0-300</td>\n",
       "      <td>15.0</td>\n",
       "      <td>16.0</td>\n",
       "      <td>4380.0</td>\n",
       "      <td>2</td>\n",
       "      <td>2020</td>\n",
       "      <td>30.0</td>\n",
       "      <td>33.0</td>\n",
       "      <td>8490.0</td>\n",
       "      <td>22.5</td>\n",
       "      <td>24.5</td>\n",
       "      <td>6435.0</td>\n",
       "    </tr>\n",
       "  </tbody>\n",
       "</table>\n",
       "</div>"
      ],
      "text/plain": [
       "            date analytic_business_unit analytic_super_category  \\\n",
       "14761 2020-02-01                   Home     HomeImprovementTool   \n",
       "14751 2020-02-01                   Home     HomeImprovementTool   \n",
       "14752 2020-02-01                   Home     HomeImprovementTool   \n",
       "14754 2020-02-01                   Home     HomeImprovementTool   \n",
       "14755 2020-02-01                   Home     HomeImprovementTool   \n",
       "\n",
       "         analytic_category analytic_vertical    cms_vertical price_bucket  \\\n",
       "14761       HomeAndUtility     ApplianceKnob  appliance_knob        0-300   \n",
       "14751  FittingsAndFixtures         WaterPump      water_pump      300-500   \n",
       "14752  FittingsAndFixtures         WaterPump      water_pump         500+   \n",
       "14754  FittingsAndFixtures         WoodBlock      wood_block        0-300   \n",
       "14755  FittingsAndFixtures         WoodStain      wood_stain        0-300   \n",
       "\n",
       "       orders   units        gmv  month  year  orders_lag_1  units_lag_1  \\\n",
       "14761   169.0   179.0    39656.0      2  2020         166.0        176.0   \n",
       "14751  1118.0  1180.0   525481.0      2  2020         758.0        816.0   \n",
       "14752  1627.0  1663.0  3904025.0      2  2020        1593.0       1618.0   \n",
       "14754    11.0    12.0     2388.0      2  2020           6.0          9.0   \n",
       "14755    15.0    16.0     4380.0      2  2020          30.0         33.0   \n",
       "\n",
       "       gmv_lag_1  orders_ma_3  units_ma_3   gmv_ma_3  \n",
       "14761    37531.0        167.5       177.5    38593.5  \n",
       "14751   365090.0        938.0       998.0   445285.5  \n",
       "14752  3698304.0       1610.0      1640.5  3801164.5  \n",
       "14754     1791.0          8.5        10.5     2089.5  \n",
       "14755     8490.0         22.5        24.5     6435.0  "
      ]
     },
     "execution_count": 72,
     "metadata": {},
     "output_type": "execute_result"
    }
   ],
   "source": [
    "df_sampled.head()"
   ]
  },
  {
   "cell_type": "code",
   "execution_count": null,
   "id": "dc66cf97-a61c-4be1-9fd0-97c5c81f54fd",
   "metadata": {},
   "outputs": [],
   "source": []
  },
  {
   "cell_type": "code",
   "execution_count": null,
   "id": "027f5cf5-b87d-4b6f-ac89-1c1f96e7ca28",
   "metadata": {},
   "outputs": [],
   "source": []
  },
  {
   "cell_type": "code",
   "execution_count": 76,
   "id": "6ba658f9-b353-4034-a9ec-5036c6039f23",
   "metadata": {},
   "outputs": [],
   "source": [
    "#convert date time string to datetime object\n",
    "df_sampled['date'] = pd.to_datetime(df_sampled['date'])"
   ]
  },
  {
   "cell_type": "code",
   "execution_count": 80,
   "id": "0a22b08d-325a-4f24-9e71-c868bfc5623f",
   "metadata": {},
   "outputs": [],
   "source": [
    "from sklearn.model_selection import train_test_split\n",
    "from sklearn.linear_model import LinearRegression\n",
    "from sklearn.ensemble import RandomForestRegressor\n",
    "from sklearn.metrics import mean_squared_error, mean_absolute_percentage_error\n",
    "\n",
    "# Define features and target variable\n",
    "features = ['month', 'year', 'orders_lag_1', 'units_lag_1', 'gmv_lag_1', 'orders_ma_3', 'units_ma_3', 'gmv_ma_3'] #x variables\n",
    "target = 'orders' #y variable"
   ]
  },
  {
   "cell_type": "code",
   "execution_count": 82,
   "id": "0a85122e-e0d2-4a5a-a2cf-c27f12058db0",
   "metadata": {},
   "outputs": [],
   "source": [
    "# Split data into training & testing sets (80% train, 20% test)\n",
    "X_train, X_test, y_train, y_test = train_test_split(df_sampled[features], df_sampled[target], test_size=0.2, random_state=42)\n"
   ]
  },
  {
   "cell_type": "code",
   "execution_count": 84,
   "id": "accdb867-b3c3-44dd-af22-a3c0246052f3",
   "metadata": {},
   "outputs": [
    {
     "data": {
      "text/html": [
       "<style>#sk-container-id-1 {\n",
       "  /* Definition of color scheme common for light and dark mode */\n",
       "  --sklearn-color-text: black;\n",
       "  --sklearn-color-line: gray;\n",
       "  /* Definition of color scheme for unfitted estimators */\n",
       "  --sklearn-color-unfitted-level-0: #fff5e6;\n",
       "  --sklearn-color-unfitted-level-1: #f6e4d2;\n",
       "  --sklearn-color-unfitted-level-2: #ffe0b3;\n",
       "  --sklearn-color-unfitted-level-3: chocolate;\n",
       "  /* Definition of color scheme for fitted estimators */\n",
       "  --sklearn-color-fitted-level-0: #f0f8ff;\n",
       "  --sklearn-color-fitted-level-1: #d4ebff;\n",
       "  --sklearn-color-fitted-level-2: #b3dbfd;\n",
       "  --sklearn-color-fitted-level-3: cornflowerblue;\n",
       "\n",
       "  /* Specific color for light theme */\n",
       "  --sklearn-color-text-on-default-background: var(--sg-text-color, var(--theme-code-foreground, var(--jp-content-font-color1, black)));\n",
       "  --sklearn-color-background: var(--sg-background-color, var(--theme-background, var(--jp-layout-color0, white)));\n",
       "  --sklearn-color-border-box: var(--sg-text-color, var(--theme-code-foreground, var(--jp-content-font-color1, black)));\n",
       "  --sklearn-color-icon: #696969;\n",
       "\n",
       "  @media (prefers-color-scheme: dark) {\n",
       "    /* Redefinition of color scheme for dark theme */\n",
       "    --sklearn-color-text-on-default-background: var(--sg-text-color, var(--theme-code-foreground, var(--jp-content-font-color1, white)));\n",
       "    --sklearn-color-background: var(--sg-background-color, var(--theme-background, var(--jp-layout-color0, #111)));\n",
       "    --sklearn-color-border-box: var(--sg-text-color, var(--theme-code-foreground, var(--jp-content-font-color1, white)));\n",
       "    --sklearn-color-icon: #878787;\n",
       "  }\n",
       "}\n",
       "\n",
       "#sk-container-id-1 {\n",
       "  color: var(--sklearn-color-text);\n",
       "}\n",
       "\n",
       "#sk-container-id-1 pre {\n",
       "  padding: 0;\n",
       "}\n",
       "\n",
       "#sk-container-id-1 input.sk-hidden--visually {\n",
       "  border: 0;\n",
       "  clip: rect(1px 1px 1px 1px);\n",
       "  clip: rect(1px, 1px, 1px, 1px);\n",
       "  height: 1px;\n",
       "  margin: -1px;\n",
       "  overflow: hidden;\n",
       "  padding: 0;\n",
       "  position: absolute;\n",
       "  width: 1px;\n",
       "}\n",
       "\n",
       "#sk-container-id-1 div.sk-dashed-wrapped {\n",
       "  border: 1px dashed var(--sklearn-color-line);\n",
       "  margin: 0 0.4em 0.5em 0.4em;\n",
       "  box-sizing: border-box;\n",
       "  padding-bottom: 0.4em;\n",
       "  background-color: var(--sklearn-color-background);\n",
       "}\n",
       "\n",
       "#sk-container-id-1 div.sk-container {\n",
       "  /* jupyter's `normalize.less` sets `[hidden] { display: none; }`\n",
       "     but bootstrap.min.css set `[hidden] { display: none !important; }`\n",
       "     so we also need the `!important` here to be able to override the\n",
       "     default hidden behavior on the sphinx rendered scikit-learn.org.\n",
       "     See: https://github.com/scikit-learn/scikit-learn/issues/21755 */\n",
       "  display: inline-block !important;\n",
       "  position: relative;\n",
       "}\n",
       "\n",
       "#sk-container-id-1 div.sk-text-repr-fallback {\n",
       "  display: none;\n",
       "}\n",
       "\n",
       "div.sk-parallel-item,\n",
       "div.sk-serial,\n",
       "div.sk-item {\n",
       "  /* draw centered vertical line to link estimators */\n",
       "  background-image: linear-gradient(var(--sklearn-color-text-on-default-background), var(--sklearn-color-text-on-default-background));\n",
       "  background-size: 2px 100%;\n",
       "  background-repeat: no-repeat;\n",
       "  background-position: center center;\n",
       "}\n",
       "\n",
       "/* Parallel-specific style estimator block */\n",
       "\n",
       "#sk-container-id-1 div.sk-parallel-item::after {\n",
       "  content: \"\";\n",
       "  width: 100%;\n",
       "  border-bottom: 2px solid var(--sklearn-color-text-on-default-background);\n",
       "  flex-grow: 1;\n",
       "}\n",
       "\n",
       "#sk-container-id-1 div.sk-parallel {\n",
       "  display: flex;\n",
       "  align-items: stretch;\n",
       "  justify-content: center;\n",
       "  background-color: var(--sklearn-color-background);\n",
       "  position: relative;\n",
       "}\n",
       "\n",
       "#sk-container-id-1 div.sk-parallel-item {\n",
       "  display: flex;\n",
       "  flex-direction: column;\n",
       "}\n",
       "\n",
       "#sk-container-id-1 div.sk-parallel-item:first-child::after {\n",
       "  align-self: flex-end;\n",
       "  width: 50%;\n",
       "}\n",
       "\n",
       "#sk-container-id-1 div.sk-parallel-item:last-child::after {\n",
       "  align-self: flex-start;\n",
       "  width: 50%;\n",
       "}\n",
       "\n",
       "#sk-container-id-1 div.sk-parallel-item:only-child::after {\n",
       "  width: 0;\n",
       "}\n",
       "\n",
       "/* Serial-specific style estimator block */\n",
       "\n",
       "#sk-container-id-1 div.sk-serial {\n",
       "  display: flex;\n",
       "  flex-direction: column;\n",
       "  align-items: center;\n",
       "  background-color: var(--sklearn-color-background);\n",
       "  padding-right: 1em;\n",
       "  padding-left: 1em;\n",
       "}\n",
       "\n",
       "\n",
       "/* Toggleable style: style used for estimator/Pipeline/ColumnTransformer box that is\n",
       "clickable and can be expanded/collapsed.\n",
       "- Pipeline and ColumnTransformer use this feature and define the default style\n",
       "- Estimators will overwrite some part of the style using the `sk-estimator` class\n",
       "*/\n",
       "\n",
       "/* Pipeline and ColumnTransformer style (default) */\n",
       "\n",
       "#sk-container-id-1 div.sk-toggleable {\n",
       "  /* Default theme specific background. It is overwritten whether we have a\n",
       "  specific estimator or a Pipeline/ColumnTransformer */\n",
       "  background-color: var(--sklearn-color-background);\n",
       "}\n",
       "\n",
       "/* Toggleable label */\n",
       "#sk-container-id-1 label.sk-toggleable__label {\n",
       "  cursor: pointer;\n",
       "  display: block;\n",
       "  width: 100%;\n",
       "  margin-bottom: 0;\n",
       "  padding: 0.5em;\n",
       "  box-sizing: border-box;\n",
       "  text-align: center;\n",
       "}\n",
       "\n",
       "#sk-container-id-1 label.sk-toggleable__label-arrow:before {\n",
       "  /* Arrow on the left of the label */\n",
       "  content: \"▸\";\n",
       "  float: left;\n",
       "  margin-right: 0.25em;\n",
       "  color: var(--sklearn-color-icon);\n",
       "}\n",
       "\n",
       "#sk-container-id-1 label.sk-toggleable__label-arrow:hover:before {\n",
       "  color: var(--sklearn-color-text);\n",
       "}\n",
       "\n",
       "/* Toggleable content - dropdown */\n",
       "\n",
       "#sk-container-id-1 div.sk-toggleable__content {\n",
       "  max-height: 0;\n",
       "  max-width: 0;\n",
       "  overflow: hidden;\n",
       "  text-align: left;\n",
       "  /* unfitted */\n",
       "  background-color: var(--sklearn-color-unfitted-level-0);\n",
       "}\n",
       "\n",
       "#sk-container-id-1 div.sk-toggleable__content.fitted {\n",
       "  /* fitted */\n",
       "  background-color: var(--sklearn-color-fitted-level-0);\n",
       "}\n",
       "\n",
       "#sk-container-id-1 div.sk-toggleable__content pre {\n",
       "  margin: 0.2em;\n",
       "  border-radius: 0.25em;\n",
       "  color: var(--sklearn-color-text);\n",
       "  /* unfitted */\n",
       "  background-color: var(--sklearn-color-unfitted-level-0);\n",
       "}\n",
       "\n",
       "#sk-container-id-1 div.sk-toggleable__content.fitted pre {\n",
       "  /* unfitted */\n",
       "  background-color: var(--sklearn-color-fitted-level-0);\n",
       "}\n",
       "\n",
       "#sk-container-id-1 input.sk-toggleable__control:checked~div.sk-toggleable__content {\n",
       "  /* Expand drop-down */\n",
       "  max-height: 200px;\n",
       "  max-width: 100%;\n",
       "  overflow: auto;\n",
       "}\n",
       "\n",
       "#sk-container-id-1 input.sk-toggleable__control:checked~label.sk-toggleable__label-arrow:before {\n",
       "  content: \"▾\";\n",
       "}\n",
       "\n",
       "/* Pipeline/ColumnTransformer-specific style */\n",
       "\n",
       "#sk-container-id-1 div.sk-label input.sk-toggleable__control:checked~label.sk-toggleable__label {\n",
       "  color: var(--sklearn-color-text);\n",
       "  background-color: var(--sklearn-color-unfitted-level-2);\n",
       "}\n",
       "\n",
       "#sk-container-id-1 div.sk-label.fitted input.sk-toggleable__control:checked~label.sk-toggleable__label {\n",
       "  background-color: var(--sklearn-color-fitted-level-2);\n",
       "}\n",
       "\n",
       "/* Estimator-specific style */\n",
       "\n",
       "/* Colorize estimator box */\n",
       "#sk-container-id-1 div.sk-estimator input.sk-toggleable__control:checked~label.sk-toggleable__label {\n",
       "  /* unfitted */\n",
       "  background-color: var(--sklearn-color-unfitted-level-2);\n",
       "}\n",
       "\n",
       "#sk-container-id-1 div.sk-estimator.fitted input.sk-toggleable__control:checked~label.sk-toggleable__label {\n",
       "  /* fitted */\n",
       "  background-color: var(--sklearn-color-fitted-level-2);\n",
       "}\n",
       "\n",
       "#sk-container-id-1 div.sk-label label.sk-toggleable__label,\n",
       "#sk-container-id-1 div.sk-label label {\n",
       "  /* The background is the default theme color */\n",
       "  color: var(--sklearn-color-text-on-default-background);\n",
       "}\n",
       "\n",
       "/* On hover, darken the color of the background */\n",
       "#sk-container-id-1 div.sk-label:hover label.sk-toggleable__label {\n",
       "  color: var(--sklearn-color-text);\n",
       "  background-color: var(--sklearn-color-unfitted-level-2);\n",
       "}\n",
       "\n",
       "/* Label box, darken color on hover, fitted */\n",
       "#sk-container-id-1 div.sk-label.fitted:hover label.sk-toggleable__label.fitted {\n",
       "  color: var(--sklearn-color-text);\n",
       "  background-color: var(--sklearn-color-fitted-level-2);\n",
       "}\n",
       "\n",
       "/* Estimator label */\n",
       "\n",
       "#sk-container-id-1 div.sk-label label {\n",
       "  font-family: monospace;\n",
       "  font-weight: bold;\n",
       "  display: inline-block;\n",
       "  line-height: 1.2em;\n",
       "}\n",
       "\n",
       "#sk-container-id-1 div.sk-label-container {\n",
       "  text-align: center;\n",
       "}\n",
       "\n",
       "/* Estimator-specific */\n",
       "#sk-container-id-1 div.sk-estimator {\n",
       "  font-family: monospace;\n",
       "  border: 1px dotted var(--sklearn-color-border-box);\n",
       "  border-radius: 0.25em;\n",
       "  box-sizing: border-box;\n",
       "  margin-bottom: 0.5em;\n",
       "  /* unfitted */\n",
       "  background-color: var(--sklearn-color-unfitted-level-0);\n",
       "}\n",
       "\n",
       "#sk-container-id-1 div.sk-estimator.fitted {\n",
       "  /* fitted */\n",
       "  background-color: var(--sklearn-color-fitted-level-0);\n",
       "}\n",
       "\n",
       "/* on hover */\n",
       "#sk-container-id-1 div.sk-estimator:hover {\n",
       "  /* unfitted */\n",
       "  background-color: var(--sklearn-color-unfitted-level-2);\n",
       "}\n",
       "\n",
       "#sk-container-id-1 div.sk-estimator.fitted:hover {\n",
       "  /* fitted */\n",
       "  background-color: var(--sklearn-color-fitted-level-2);\n",
       "}\n",
       "\n",
       "/* Specification for estimator info (e.g. \"i\" and \"?\") */\n",
       "\n",
       "/* Common style for \"i\" and \"?\" */\n",
       "\n",
       ".sk-estimator-doc-link,\n",
       "a:link.sk-estimator-doc-link,\n",
       "a:visited.sk-estimator-doc-link {\n",
       "  float: right;\n",
       "  font-size: smaller;\n",
       "  line-height: 1em;\n",
       "  font-family: monospace;\n",
       "  background-color: var(--sklearn-color-background);\n",
       "  border-radius: 1em;\n",
       "  height: 1em;\n",
       "  width: 1em;\n",
       "  text-decoration: none !important;\n",
       "  margin-left: 1ex;\n",
       "  /* unfitted */\n",
       "  border: var(--sklearn-color-unfitted-level-1) 1pt solid;\n",
       "  color: var(--sklearn-color-unfitted-level-1);\n",
       "}\n",
       "\n",
       ".sk-estimator-doc-link.fitted,\n",
       "a:link.sk-estimator-doc-link.fitted,\n",
       "a:visited.sk-estimator-doc-link.fitted {\n",
       "  /* fitted */\n",
       "  border: var(--sklearn-color-fitted-level-1) 1pt solid;\n",
       "  color: var(--sklearn-color-fitted-level-1);\n",
       "}\n",
       "\n",
       "/* On hover */\n",
       "div.sk-estimator:hover .sk-estimator-doc-link:hover,\n",
       ".sk-estimator-doc-link:hover,\n",
       "div.sk-label-container:hover .sk-estimator-doc-link:hover,\n",
       ".sk-estimator-doc-link:hover {\n",
       "  /* unfitted */\n",
       "  background-color: var(--sklearn-color-unfitted-level-3);\n",
       "  color: var(--sklearn-color-background);\n",
       "  text-decoration: none;\n",
       "}\n",
       "\n",
       "div.sk-estimator.fitted:hover .sk-estimator-doc-link.fitted:hover,\n",
       ".sk-estimator-doc-link.fitted:hover,\n",
       "div.sk-label-container:hover .sk-estimator-doc-link.fitted:hover,\n",
       ".sk-estimator-doc-link.fitted:hover {\n",
       "  /* fitted */\n",
       "  background-color: var(--sklearn-color-fitted-level-3);\n",
       "  color: var(--sklearn-color-background);\n",
       "  text-decoration: none;\n",
       "}\n",
       "\n",
       "/* Span, style for the box shown on hovering the info icon */\n",
       ".sk-estimator-doc-link span {\n",
       "  display: none;\n",
       "  z-index: 9999;\n",
       "  position: relative;\n",
       "  font-weight: normal;\n",
       "  right: .2ex;\n",
       "  padding: .5ex;\n",
       "  margin: .5ex;\n",
       "  width: min-content;\n",
       "  min-width: 20ex;\n",
       "  max-width: 50ex;\n",
       "  color: var(--sklearn-color-text);\n",
       "  box-shadow: 2pt 2pt 4pt #999;\n",
       "  /* unfitted */\n",
       "  background: var(--sklearn-color-unfitted-level-0);\n",
       "  border: .5pt solid var(--sklearn-color-unfitted-level-3);\n",
       "}\n",
       "\n",
       ".sk-estimator-doc-link.fitted span {\n",
       "  /* fitted */\n",
       "  background: var(--sklearn-color-fitted-level-0);\n",
       "  border: var(--sklearn-color-fitted-level-3);\n",
       "}\n",
       "\n",
       ".sk-estimator-doc-link:hover span {\n",
       "  display: block;\n",
       "}\n",
       "\n",
       "/* \"?\"-specific style due to the `<a>` HTML tag */\n",
       "\n",
       "#sk-container-id-1 a.estimator_doc_link {\n",
       "  float: right;\n",
       "  font-size: 1rem;\n",
       "  line-height: 1em;\n",
       "  font-family: monospace;\n",
       "  background-color: var(--sklearn-color-background);\n",
       "  border-radius: 1rem;\n",
       "  height: 1rem;\n",
       "  width: 1rem;\n",
       "  text-decoration: none;\n",
       "  /* unfitted */\n",
       "  color: var(--sklearn-color-unfitted-level-1);\n",
       "  border: var(--sklearn-color-unfitted-level-1) 1pt solid;\n",
       "}\n",
       "\n",
       "#sk-container-id-1 a.estimator_doc_link.fitted {\n",
       "  /* fitted */\n",
       "  border: var(--sklearn-color-fitted-level-1) 1pt solid;\n",
       "  color: var(--sklearn-color-fitted-level-1);\n",
       "}\n",
       "\n",
       "/* On hover */\n",
       "#sk-container-id-1 a.estimator_doc_link:hover {\n",
       "  /* unfitted */\n",
       "  background-color: var(--sklearn-color-unfitted-level-3);\n",
       "  color: var(--sklearn-color-background);\n",
       "  text-decoration: none;\n",
       "}\n",
       "\n",
       "#sk-container-id-1 a.estimator_doc_link.fitted:hover {\n",
       "  /* fitted */\n",
       "  background-color: var(--sklearn-color-fitted-level-3);\n",
       "}\n",
       "</style><div id=\"sk-container-id-1\" class=\"sk-top-container\"><div class=\"sk-text-repr-fallback\"><pre>RandomForestRegressor(random_state=42)</pre><b>In a Jupyter environment, please rerun this cell to show the HTML representation or trust the notebook. <br />On GitHub, the HTML representation is unable to render, please try loading this page with nbviewer.org.</b></div><div class=\"sk-container\" hidden><div class=\"sk-item\"><div class=\"sk-estimator fitted sk-toggleable\"><input class=\"sk-toggleable__control sk-hidden--visually\" id=\"sk-estimator-id-1\" type=\"checkbox\" checked><label for=\"sk-estimator-id-1\" class=\"sk-toggleable__label fitted sk-toggleable__label-arrow fitted\">&nbsp;&nbsp;RandomForestRegressor<a class=\"sk-estimator-doc-link fitted\" rel=\"noreferrer\" target=\"_blank\" href=\"https://scikit-learn.org/1.5/modules/generated/sklearn.ensemble.RandomForestRegressor.html\">?<span>Documentation for RandomForestRegressor</span></a><span class=\"sk-estimator-doc-link fitted\">i<span>Fitted</span></span></label><div class=\"sk-toggleable__content fitted\"><pre>RandomForestRegressor(random_state=42)</pre></div> </div></div></div></div>"
      ],
      "text/plain": [
       "RandomForestRegressor(random_state=42)"
      ]
     },
     "execution_count": 84,
     "metadata": {},
     "output_type": "execute_result"
    }
   ],
   "source": [
    "# Train models\n",
    "lr_model = LinearRegression()\n",
    "rf_model = RandomForestRegressor(n_estimators=100, random_state=42)\n",
    "\n",
    "lr_model.fit(X_train, y_train)\n",
    "rf_model.fit(X_train, y_train)\n"
   ]
  },
  {
   "cell_type": "code",
   "execution_count": 86,
   "id": "5eea2b06-8a00-463c-a2a1-f2800af31dcf",
   "metadata": {},
   "outputs": [],
   "source": [
    "# Predict on test set\n",
    "lr_preds = lr_model.predict(X_test)\n",
    "rf_preds = rf_model.predict(X_test)"
   ]
  },
  {
   "cell_type": "code",
   "execution_count": 88,
   "id": "15ac7df0-b123-46a8-aadf-1dd980fb8000",
   "metadata": {},
   "outputs": [
    {
     "name": "stderr",
     "output_type": "stream",
     "text": [
      "/opt/anaconda3/lib/python3.12/site-packages/sklearn/metrics/_regression.py:492: FutureWarning: 'squared' is deprecated in version 1.4 and will be removed in 1.6. To calculate the root mean squared error, use the function'root_mean_squared_error'.\n",
      "  warnings.warn(\n",
      "/opt/anaconda3/lib/python3.12/site-packages/sklearn/metrics/_regression.py:492: FutureWarning: 'squared' is deprecated in version 1.4 and will be removed in 1.6. To calculate the root mean squared error, use the function'root_mean_squared_error'.\n",
      "  warnings.warn(\n"
     ]
    }
   ],
   "source": [
    "# Evaluate models\n",
    "lr_rmse = mean_squared_error(y_test, lr_preds, squared=False)\n",
    "rf_rmse = mean_squared_error(y_test, rf_preds, squared=False)\n"
   ]
  },
  {
   "cell_type": "code",
   "execution_count": 90,
   "id": "b2ceb114-de40-4a1d-a764-e09bf29f0211",
   "metadata": {},
   "outputs": [],
   "source": [
    "lr_mape = mean_absolute_percentage_error(y_test, lr_preds)\n",
    "rf_mape = mean_absolute_percentage_error(y_test, rf_preds)\n"
   ]
  },
  {
   "cell_type": "code",
   "execution_count": 92,
   "id": "2ece6122-0c9a-4e7a-adee-af77589b4bc1",
   "metadata": {},
   "outputs": [],
   "source": [
    "import scipy.stats as stats\n",
    "import matplotlib.pyplot as plt\n",
    "import seaborn as sns\n",
    "from statsmodels.tsa.stattools import adfuller\n",
    "from statsmodels.stats.outliers_influence import variance_inflation_factor\n",
    "from sklearn.model_selection import train_test_split\n",
    "from sklearn.linear_model import LinearRegression\n",
    "from sklearn.ensemble import RandomForestRegressor\n",
    "from sklearn.metrics import mean_squared_error, mean_absolute_percentage_error\n"
   ]
  },
  {
   "cell_type": "code",
   "execution_count": 94,
   "id": "f8f3c8b1-a6ef-4ae7-8b31-e6bc751beb85",
   "metadata": {},
   "outputs": [],
   "source": [
    "# Normality Test: Shapiro-Wilk Test\n",
    "shapiro_test = stats.shapiro(df_sampled['orders'].sample(n=5000, random_state=42))\n",
    "\n",
    "# Stationarity Test: Augmented Dickey-Fuller (ADF) Test\n",
    "adf_test_sampled = adfuller(df_sampled['orders'].sample(n=5000, random_state=42))\n",
    "\n",
    "# Multicollinearity Test: Variance Inflation Factor (VIF)\n",
    "predictor_vars = ['month', 'year', 'orders_lag_1', 'units_lag_1', 'gmv_lag_1', 'orders_ma_3', 'units_ma_3', 'gmv_ma_3']\n",
    "X_vif_sampled = df_sampled[predictor_vars].sample(n=5000, random_state=42).dropna()\n",
    "\n",
    "vif_data_sampled = pd.DataFrame()\n",
    "vif_data_sampled[\"Feature\"] = X_vif_sampled.columns\n",
    "vif_data_sampled[\"VIF\"] = [variance_inflation_factor(X_vif_sampled.values, i) for i in range(X_vif_sampled.shape[1])]\n"
   ]
  },
  {
   "cell_type": "code",
   "execution_count": 96,
   "id": "9342af5b-df65-4dac-ba03-5a0e72f007f2",
   "metadata": {},
   "outputs": [
    {
     "name": "stdout",
     "output_type": "stream",
     "text": [
      "\n",
      "📊 Statistical Test Results:\n",
      "Shapiro-Wilk Test (Normality): Statistic=0.1539, p-value=0.0000\n",
      "ADF Test (Stationarity): p-value=0.0000\n",
      "\n",
      "🟡 Multicollinearity Test (VIF Values):\n",
      "        Feature          VIF\n",
      "0         month     4.737631\n",
      "1          year     4.763009\n",
      "2  orders_lag_1   775.577253\n",
      "3   units_lag_1   568.410376\n",
      "4     gmv_lag_1   413.945715\n",
      "5   orders_ma_3  1382.553130\n",
      "6    units_ma_3  1137.159136\n",
      "7      gmv_ma_3   416.032537\n"
     ]
    }
   ],
   "source": [
    "# Print Statistical Test Results\n",
    "print(\"\\n Statistical Test Results:\")\n",
    "print(f\"Shapiro-Wilk Test (Normality): Statistic={shapiro_test[0]:.4f}, p-value={shapiro_test[1]:.4f}\")\n",
    "print(f\"ADF Test (Stationarity): p-value={adf_test_sampled[1]:.4f}\")\n",
    "print(\"\\n Multicollinearity Test (VIF Values):\")\n",
    "print(vif_data_sampled)\n"
   ]
  },
  {
   "cell_type": "code",
   "execution_count": 98,
   "id": "fdd940ab-1f1e-413a-a5f0-ce3f6eecf56c",
   "metadata": {},
   "outputs": [],
   "source": [
    "# Print Model Performance\n",
    "model_performance = pd.DataFrame({\n",
    "    'Model': ['Linear Regression', 'Random Forest'],\n",
    "    'RMSE': [lr_rmse, rf_rmse],\n",
    "    'MAPE': [lr_mape, rf_mape]\n",
    "})"
   ]
  },
  {
   "cell_type": "code",
   "execution_count": 100,
   "id": "7944e511-bce3-4b0b-8934-6fb43fa29c62",
   "metadata": {},
   "outputs": [
    {
     "name": "stdout",
     "output_type": "stream",
     "text": [
      "\n",
      "📈 Model Performance Comparison:\n",
      "               Model          RMSE      MAPE\n",
      "0  Linear Regression  10699.992803  7.158921\n",
      "1      Random Forest  10610.155189  4.095891\n"
     ]
    }
   ],
   "source": [
    "print(\"\\n Model Performance Comparison:\")\n",
    "print(model_performance)\n"
   ]
  },
  {
   "cell_type": "code",
   "execution_count": 102,
   "id": "aa50e37a-6f9b-4c44-bf97-d571256f06c3",
   "metadata": {},
   "outputs": [
    {
     "data": {
      "image/png": "[encoded data removed]",
      "text/plain": [
       "<Figure size 640x480 with 2 Axes>"
      ]
     },
     "metadata": {},
     "output_type": "display_data"
    }
   ],
   "source": [
    "# Linear Regression\n",
    "plt.subplot(1, 2, 1)\n",
    "sns.scatterplot(x=y_test, y=lr_preds, alpha=0.5, color='blue')\n",
    "plt.xlabel(\"Actual Orders\")\n",
    "plt.ylabel(\"Predicted Orders\")\n",
    "plt.title(\"Linear Regression: Actual vs Predicted\")\n",
    "plt.axline([0, 0], [1, 1], color='red', linestyle='--')\n",
    "\n",
    "# Random Forest\n",
    "plt.subplot(1, 2, 2)\n",
    "sns.scatterplot(x=y_test, y=rf_preds, alpha=0.5, color='green')\n",
    "plt.xlabel(\"Actual Orders\")\n",
    "plt.ylabel(\"Predicted Orders\")\n",
    "plt.title(\"Random Forest: Actual vs Predicted\")\n",
    "plt.axline([0, 0], [1, 1], color='red', linestyle='--')\n",
    "\n",
    "plt.tight_layout()\n",
    "plt.show()"
   ]
  },
  {
   "cell_type": "code",
   "execution_count": 110,
   "id": "55625e45-da1a-4c25-9084-91fa7ee2c325",
   "metadata": {},
   "outputs": [],
   "source": [
    "# make 2 visualization for testing and training seperately on how the regression line divides the graph"
   ]
  },
  {
   "cell_type": "code",
   "execution_count": 106,
   "id": "b8144466",
   "metadata": {},
   "outputs": [
    {
     "name": "stdout",
     "output_type": "stream",
     "text": [
      "Normalization complete using MinMaxScaler and StandardScaler.\n"
     ]
    }
   ],
   "source": [
    "#Normalization\n",
    "from sklearn.preprocessing import MinMaxScaler, StandardScaler\n",
    "\n",
    "# Assuming df_sampled is the main DataFrame used for modeling\n",
    "features = ['orders', 'units', 'gmv']  # Add more if necessary\n",
    "\n",
    "# Apply MinMaxScaler\n",
    "minmax_scaler = MinMaxScaler()\n",
    "df_minmax_scaled = df_sampled.copy()\n",
    "df_minmax_scaled[features] = minmax_scaler.fit_transform(df_minmax_scaled[features])\n",
    "\n",
    "# Apply StandardScaler\n",
    "standard_scaler = StandardScaler()\n",
    "df_standard_scaled = df_sampled.copy()\n",
    "df_standard_scaled[features] = standard_scaler.fit_transform(df_standard_scaled[features])\n",
    "\n",
    "print(\"Normalization complete using MinMaxScaler and StandardScaler.\")\n"
   ]
  },
  {
   "cell_type": "code",
   "execution_count": 112,
   "id": "8f08cf49-ff35-4858-92c0-d92b4c79ad70",
   "metadata": {},
   "outputs": [
    {
     "name": "stdout",
     "output_type": "stream",
     "text": [
      "Requirement already satisfied: xgboost in /opt/anaconda3/lib/python3.12/site-packages (3.0.0)\n",
      "Requirement already satisfied: numpy in /opt/anaconda3/lib/python3.12/site-packages (from xgboost) (1.26.4)\n",
      "Requirement already satisfied: scipy in /opt/anaconda3/lib/python3.12/site-packages (from xgboost) (1.13.1)\n"
     ]
    }
   ],
   "source": [
    "!pip install xgboost"
   ]
  },
  {
   "cell_type": "code",
   "execution_count": 114,
   "id": "3b706d5b",
   "metadata": {},
   "outputs": [
    {
     "ename": "KeyboardInterrupt",
     "evalue": "",
     "output_type": "error",
     "traceback": [
      "\u001b[0;31m---------------------------------------------------------------------------\u001b[0m",
      "\u001b[0;31mKeyboardInterrupt\u001b[0m                         Traceback (most recent call last)",
      "Cell \u001b[0;32mIn[114], line 22\u001b[0m\n\u001b[1;32m     19\u001b[0m lr_rmse \u001b[38;5;241m=\u001b[39m np\u001b[38;5;241m.\u001b[39msqrt(mean_squared_error(y_test, lr\u001b[38;5;241m.\u001b[39mpredict(X_test)))\n\u001b[1;32m     21\u001b[0m \u001b[38;5;66;03m# Random Forest\u001b[39;00m\n\u001b[0;32m---> 22\u001b[0m rf \u001b[38;5;241m=\u001b[39m RandomForestRegressor(n_estimators\u001b[38;5;241m=\u001b[39m\u001b[38;5;241m100\u001b[39m, random_state\u001b[38;5;241m=\u001b[39m\u001b[38;5;241m42\u001b[39m)\u001b[38;5;241m.\u001b[39mfit(X_train, y_train)\n\u001b[1;32m     23\u001b[0m rf_rmse \u001b[38;5;241m=\u001b[39m np\u001b[38;5;241m.\u001b[39msqrt(mean_squared_error(y_test, rf\u001b[38;5;241m.\u001b[39mpredict(X_test)))\n\u001b[1;32m     25\u001b[0m \u001b[38;5;66;03m# XGBoost\u001b[39;00m\n",
      "File \u001b[0;32m/opt/anaconda3/lib/python3.12/site-packages/sklearn/base.py:1473\u001b[0m, in \u001b[0;36m_fit_context.<locals>.decorator.<locals>.wrapper\u001b[0;34m(estimator, *args, **kwargs)\u001b[0m\n\u001b[1;32m   1466\u001b[0m     estimator\u001b[38;5;241m.\u001b[39m_validate_params()\n\u001b[1;32m   1468\u001b[0m \u001b[38;5;28;01mwith\u001b[39;00m config_context(\n\u001b[1;32m   1469\u001b[0m     skip_parameter_validation\u001b[38;5;241m=\u001b[39m(\n\u001b[1;32m   1470\u001b[0m         prefer_skip_nested_validation \u001b[38;5;129;01mor\u001b[39;00m global_skip_validation\n\u001b[1;32m   1471\u001b[0m     )\n\u001b[1;32m   1472\u001b[0m ):\n\u001b[0;32m-> 1473\u001b[0m     \u001b[38;5;28;01mreturn\u001b[39;00m fit_method(estimator, \u001b[38;5;241m*\u001b[39margs, \u001b[38;5;241m*\u001b[39m\u001b[38;5;241m*\u001b[39mkwargs)\n",
      "File \u001b[0;32m/opt/anaconda3/lib/python3.12/site-packages/sklearn/ensemble/_forest.py:489\u001b[0m, in \u001b[0;36mBaseForest.fit\u001b[0;34m(self, X, y, sample_weight)\u001b[0m\n\u001b[1;32m    478\u001b[0m trees \u001b[38;5;241m=\u001b[39m [\n\u001b[1;32m    479\u001b[0m     \u001b[38;5;28mself\u001b[39m\u001b[38;5;241m.\u001b[39m_make_estimator(append\u001b[38;5;241m=\u001b[39m\u001b[38;5;28;01mFalse\u001b[39;00m, random_state\u001b[38;5;241m=\u001b[39mrandom_state)\n\u001b[1;32m    480\u001b[0m     \u001b[38;5;28;01mfor\u001b[39;00m i \u001b[38;5;129;01min\u001b[39;00m \u001b[38;5;28mrange\u001b[39m(n_more_estimators)\n\u001b[1;32m    481\u001b[0m ]\n\u001b[1;32m    483\u001b[0m \u001b[38;5;66;03m# Parallel loop: we prefer the threading backend as the Cython code\u001b[39;00m\n\u001b[1;32m    484\u001b[0m \u001b[38;5;66;03m# for fitting the trees is internally releasing the Python GIL\u001b[39;00m\n\u001b[1;32m    485\u001b[0m \u001b[38;5;66;03m# making threading more efficient than multiprocessing in\u001b[39;00m\n\u001b[1;32m    486\u001b[0m \u001b[38;5;66;03m# that case. However, for joblib 0.12+ we respect any\u001b[39;00m\n\u001b[1;32m    487\u001b[0m \u001b[38;5;66;03m# parallel_backend contexts set at a higher level,\u001b[39;00m\n\u001b[1;32m    488\u001b[0m \u001b[38;5;66;03m# since correctness does not rely on using threads.\u001b[39;00m\n\u001b[0;32m--> 489\u001b[0m trees \u001b[38;5;241m=\u001b[39m Parallel(\n\u001b[1;32m    490\u001b[0m     n_jobs\u001b[38;5;241m=\u001b[39m\u001b[38;5;28mself\u001b[39m\u001b[38;5;241m.\u001b[39mn_jobs,\n\u001b[1;32m    491\u001b[0m     verbose\u001b[38;5;241m=\u001b[39m\u001b[38;5;28mself\u001b[39m\u001b[38;5;241m.\u001b[39mverbose,\n\u001b[1;32m    492\u001b[0m     prefer\u001b[38;5;241m=\u001b[39m\u001b[38;5;124m\"\u001b[39m\u001b[38;5;124mthreads\u001b[39m\u001b[38;5;124m\"\u001b[39m,\n\u001b[1;32m    493\u001b[0m )(\n\u001b[1;32m    494\u001b[0m     delayed(_parallel_build_trees)(\n\u001b[1;32m    495\u001b[0m         t,\n\u001b[1;32m    496\u001b[0m         \u001b[38;5;28mself\u001b[39m\u001b[38;5;241m.\u001b[39mbootstrap,\n\u001b[1;32m    497\u001b[0m         X,\n\u001b[1;32m    498\u001b[0m         y,\n\u001b[1;32m    499\u001b[0m         sample_weight,\n\u001b[1;32m    500\u001b[0m         i,\n\u001b[1;32m    501\u001b[0m         \u001b[38;5;28mlen\u001b[39m(trees),\n\u001b[1;32m    502\u001b[0m         verbose\u001b[38;5;241m=\u001b[39m\u001b[38;5;28mself\u001b[39m\u001b[38;5;241m.\u001b[39mverbose,\n\u001b[1;32m    503\u001b[0m         class_weight\u001b[38;5;241m=\u001b[39m\u001b[38;5;28mself\u001b[39m\u001b[38;5;241m.\u001b[39mclass_weight,\n\u001b[1;32m    504\u001b[0m         n_samples_bootstrap\u001b[38;5;241m=\u001b[39mn_samples_bootstrap,\n\u001b[1;32m    505\u001b[0m         missing_values_in_feature_mask\u001b[38;5;241m=\u001b[39mmissing_values_in_feature_mask,\n\u001b[1;32m    506\u001b[0m     )\n\u001b[1;32m    507\u001b[0m     \u001b[38;5;28;01mfor\u001b[39;00m i, t \u001b[38;5;129;01min\u001b[39;00m \u001b[38;5;28menumerate\u001b[39m(trees)\n\u001b[1;32m    508\u001b[0m )\n\u001b[1;32m    510\u001b[0m \u001b[38;5;66;03m# Collect newly grown trees\u001b[39;00m\n\u001b[1;32m    511\u001b[0m \u001b[38;5;28mself\u001b[39m\u001b[38;5;241m.\u001b[39mestimators_\u001b[38;5;241m.\u001b[39mextend(trees)\n",
      "File \u001b[0;32m/opt/anaconda3/lib/python3.12/site-packages/sklearn/utils/parallel.py:74\u001b[0m, in \u001b[0;36mParallel.__call__\u001b[0;34m(self, iterable)\u001b[0m\n\u001b[1;32m     69\u001b[0m config \u001b[38;5;241m=\u001b[39m get_config()\n\u001b[1;32m     70\u001b[0m iterable_with_config \u001b[38;5;241m=\u001b[39m (\n\u001b[1;32m     71\u001b[0m     (_with_config(delayed_func, config), args, kwargs)\n\u001b[1;32m     72\u001b[0m     \u001b[38;5;28;01mfor\u001b[39;00m delayed_func, args, kwargs \u001b[38;5;129;01min\u001b[39;00m iterable\n\u001b[1;32m     73\u001b[0m )\n\u001b[0;32m---> 74\u001b[0m \u001b[38;5;28;01mreturn\u001b[39;00m \u001b[38;5;28msuper\u001b[39m()\u001b[38;5;241m.\u001b[39m\u001b[38;5;21m__call__\u001b[39m(iterable_with_config)\n",
      "File \u001b[0;32m/opt/anaconda3/lib/python3.12/site-packages/joblib/parallel.py:1918\u001b[0m, in \u001b[0;36mParallel.__call__\u001b[0;34m(self, iterable)\u001b[0m\n\u001b[1;32m   1916\u001b[0m     output \u001b[38;5;241m=\u001b[39m \u001b[38;5;28mself\u001b[39m\u001b[38;5;241m.\u001b[39m_get_sequential_output(iterable)\n\u001b[1;32m   1917\u001b[0m     \u001b[38;5;28mnext\u001b[39m(output)\n\u001b[0;32m-> 1918\u001b[0m     \u001b[38;5;28;01mreturn\u001b[39;00m output \u001b[38;5;28;01mif\u001b[39;00m \u001b[38;5;28mself\u001b[39m\u001b[38;5;241m.\u001b[39mreturn_generator \u001b[38;5;28;01melse\u001b[39;00m \u001b[38;5;28mlist\u001b[39m(output)\n\u001b[1;32m   1920\u001b[0m \u001b[38;5;66;03m# Let's create an ID that uniquely identifies the current call. If the\u001b[39;00m\n\u001b[1;32m   1921\u001b[0m \u001b[38;5;66;03m# call is interrupted early and that the same instance is immediately\u001b[39;00m\n\u001b[1;32m   1922\u001b[0m \u001b[38;5;66;03m# re-used, this id will be used to prevent workers that were\u001b[39;00m\n\u001b[1;32m   1923\u001b[0m \u001b[38;5;66;03m# concurrently finalizing a task from the previous call to run the\u001b[39;00m\n\u001b[1;32m   1924\u001b[0m \u001b[38;5;66;03m# callback.\u001b[39;00m\n\u001b[1;32m   1925\u001b[0m \u001b[38;5;28;01mwith\u001b[39;00m \u001b[38;5;28mself\u001b[39m\u001b[38;5;241m.\u001b[39m_lock:\n",
      "File \u001b[0;32m/opt/anaconda3/lib/python3.12/site-packages/joblib/parallel.py:1847\u001b[0m, in \u001b[0;36mParallel._get_sequential_output\u001b[0;34m(self, iterable)\u001b[0m\n\u001b[1;32m   1845\u001b[0m \u001b[38;5;28mself\u001b[39m\u001b[38;5;241m.\u001b[39mn_dispatched_batches \u001b[38;5;241m+\u001b[39m\u001b[38;5;241m=\u001b[39m \u001b[38;5;241m1\u001b[39m\n\u001b[1;32m   1846\u001b[0m \u001b[38;5;28mself\u001b[39m\u001b[38;5;241m.\u001b[39mn_dispatched_tasks \u001b[38;5;241m+\u001b[39m\u001b[38;5;241m=\u001b[39m \u001b[38;5;241m1\u001b[39m\n\u001b[0;32m-> 1847\u001b[0m res \u001b[38;5;241m=\u001b[39m func(\u001b[38;5;241m*\u001b[39margs, \u001b[38;5;241m*\u001b[39m\u001b[38;5;241m*\u001b[39mkwargs)\n\u001b[1;32m   1848\u001b[0m \u001b[38;5;28mself\u001b[39m\u001b[38;5;241m.\u001b[39mn_completed_tasks \u001b[38;5;241m+\u001b[39m\u001b[38;5;241m=\u001b[39m \u001b[38;5;241m1\u001b[39m\n\u001b[1;32m   1849\u001b[0m \u001b[38;5;28mself\u001b[39m\u001b[38;5;241m.\u001b[39mprint_progress()\n",
      "File \u001b[0;32m/opt/anaconda3/lib/python3.12/site-packages/sklearn/utils/parallel.py:136\u001b[0m, in \u001b[0;36m_FuncWrapper.__call__\u001b[0;34m(self, *args, **kwargs)\u001b[0m\n\u001b[1;32m    134\u001b[0m     config \u001b[38;5;241m=\u001b[39m {}\n\u001b[1;32m    135\u001b[0m \u001b[38;5;28;01mwith\u001b[39;00m config_context(\u001b[38;5;241m*\u001b[39m\u001b[38;5;241m*\u001b[39mconfig):\n\u001b[0;32m--> 136\u001b[0m     \u001b[38;5;28;01mreturn\u001b[39;00m \u001b[38;5;28mself\u001b[39m\u001b[38;5;241m.\u001b[39mfunction(\u001b[38;5;241m*\u001b[39margs, \u001b[38;5;241m*\u001b[39m\u001b[38;5;241m*\u001b[39mkwargs)\n",
      "File \u001b[0;32m/opt/anaconda3/lib/python3.12/site-packages/sklearn/ensemble/_forest.py:192\u001b[0m, in \u001b[0;36m_parallel_build_trees\u001b[0;34m(tree, bootstrap, X, y, sample_weight, tree_idx, n_trees, verbose, class_weight, n_samples_bootstrap, missing_values_in_feature_mask)\u001b[0m\n\u001b[1;32m    189\u001b[0m     \u001b[38;5;28;01melif\u001b[39;00m class_weight \u001b[38;5;241m==\u001b[39m \u001b[38;5;124m\"\u001b[39m\u001b[38;5;124mbalanced_subsample\u001b[39m\u001b[38;5;124m\"\u001b[39m:\n\u001b[1;32m    190\u001b[0m         curr_sample_weight \u001b[38;5;241m*\u001b[39m\u001b[38;5;241m=\u001b[39m compute_sample_weight(\u001b[38;5;124m\"\u001b[39m\u001b[38;5;124mbalanced\u001b[39m\u001b[38;5;124m\"\u001b[39m, y, indices\u001b[38;5;241m=\u001b[39mindices)\n\u001b[0;32m--> 192\u001b[0m     tree\u001b[38;5;241m.\u001b[39m_fit(\n\u001b[1;32m    193\u001b[0m         X,\n\u001b[1;32m    194\u001b[0m         y,\n\u001b[1;32m    195\u001b[0m         sample_weight\u001b[38;5;241m=\u001b[39mcurr_sample_weight,\n\u001b[1;32m    196\u001b[0m         check_input\u001b[38;5;241m=\u001b[39m\u001b[38;5;28;01mFalse\u001b[39;00m,\n\u001b[1;32m    197\u001b[0m         missing_values_in_feature_mask\u001b[38;5;241m=\u001b[39mmissing_values_in_feature_mask,\n\u001b[1;32m    198\u001b[0m     )\n\u001b[1;32m    199\u001b[0m \u001b[38;5;28;01melse\u001b[39;00m:\n\u001b[1;32m    200\u001b[0m     tree\u001b[38;5;241m.\u001b[39m_fit(\n\u001b[1;32m    201\u001b[0m         X,\n\u001b[1;32m    202\u001b[0m         y,\n\u001b[0;32m   (...)\u001b[0m\n\u001b[1;32m    205\u001b[0m         missing_values_in_feature_mask\u001b[38;5;241m=\u001b[39mmissing_values_in_feature_mask,\n\u001b[1;32m    206\u001b[0m     )\n",
      "File \u001b[0;32m/opt/anaconda3/lib/python3.12/site-packages/sklearn/tree/_classes.py:472\u001b[0m, in \u001b[0;36mBaseDecisionTree._fit\u001b[0;34m(self, X, y, sample_weight, check_input, missing_values_in_feature_mask)\u001b[0m\n\u001b[1;32m    461\u001b[0m \u001b[38;5;28;01melse\u001b[39;00m:\n\u001b[1;32m    462\u001b[0m     builder \u001b[38;5;241m=\u001b[39m BestFirstTreeBuilder(\n\u001b[1;32m    463\u001b[0m         splitter,\n\u001b[1;32m    464\u001b[0m         min_samples_split,\n\u001b[0;32m   (...)\u001b[0m\n\u001b[1;32m    469\u001b[0m         \u001b[38;5;28mself\u001b[39m\u001b[38;5;241m.\u001b[39mmin_impurity_decrease,\n\u001b[1;32m    470\u001b[0m     )\n\u001b[0;32m--> 472\u001b[0m builder\u001b[38;5;241m.\u001b[39mbuild(\u001b[38;5;28mself\u001b[39m\u001b[38;5;241m.\u001b[39mtree_, X, y, sample_weight, missing_values_in_feature_mask)\n\u001b[1;32m    474\u001b[0m \u001b[38;5;28;01mif\u001b[39;00m \u001b[38;5;28mself\u001b[39m\u001b[38;5;241m.\u001b[39mn_outputs_ \u001b[38;5;241m==\u001b[39m \u001b[38;5;241m1\u001b[39m \u001b[38;5;129;01mand\u001b[39;00m is_classifier(\u001b[38;5;28mself\u001b[39m):\n\u001b[1;32m    475\u001b[0m     \u001b[38;5;28mself\u001b[39m\u001b[38;5;241m.\u001b[39mn_classes_ \u001b[38;5;241m=\u001b[39m \u001b[38;5;28mself\u001b[39m\u001b[38;5;241m.\u001b[39mn_classes_[\u001b[38;5;241m0\u001b[39m]\n",
      "\u001b[0;31mKeyboardInterrupt\u001b[0m: "
     ]
    }
   ],
   "source": [
    "####bad piece\n",
    "from sklearn.linear_model import LinearRegression\n",
    "from sklearn.ensemble import RandomForestRegressor\n",
    "from xgboost import XGBRegressor\n",
    "from sklearn.metrics import mean_squared_error\n",
    "import numpy as np\n",
    "import matplotlib.pyplot as plt\n",
    "\n",
    "# Example using Standard Scaled data\n",
    "X = df_standard_scaled[['orders_lag_1', 'units_lag_1', 'gmv_lag_1']].dropna()\n",
    "y = df_standard_scaled['orders'][X.index]\n",
    "\n",
    "# Train-test split\n",
    "split_index = int(len(X) * 0.8)\n",
    "X_train, X_test = X[:split_index], X[split_index:]\n",
    "y_train, y_test = y[:split_index], y[split_index:]\n",
    "\n",
    "# Linear Regression\n",
    "lr = LinearRegression().fit(X_train, y_train)\n",
    "lr_rmse = np.sqrt(mean_squared_error(y_test, lr.predict(X_test)))\n",
    "\n",
    "# Random Forest\n",
    "rf = RandomForestRegressor(n_estimators=100, random_state=42).fit(X_train, y_train)\n",
    "rf_rmse = np.sqrt(mean_squared_error(y_test, rf.predict(X_test)))\n",
    "\n",
    "# XGBoost\n",
    "xgb = XGBRegressor(n_estimators=100, random_state=42).fit(X_train, y_train)\n",
    "xgb_rmse = np.sqrt(mean_squared_error(y_test, xgb.predict(X_test)))\n",
    "\n",
    "# Placeholder RMSE for LSTM and ARIMA\n",
    "lstm_rmse = 134.2\n",
    "arima_rmse = 145.7\n",
    "\n",
    "# RMSE Comparison\n",
    "models = ['Linear Regression', 'Random Forest', 'XGBoost', 'LSTM', 'ARIMA']\n",
    "rmses = [lr_rmse, rf_rmse, xgb_rmse, lstm_rmse, arima_rmse]\n",
    "\n",
    "plt.figure(figsize=(10, 6))\n",
    "plt.bar(models, rmses)\n",
    "plt.title('RMSE Comparison of Models')\n",
    "plt.ylabel('RMSE')\n",
    "plt.grid(True)\n",
    "plt.tight_layout()\n",
    "plt.show()\n"
   ]
  },
  {
   "cell_type": "code",
   "execution_count": 116,
   "id": "b46c7a04",
   "metadata": {},
   "outputs": [
    {
     "name": "stderr",
     "output_type": "stream",
     "text": [
      "/opt/anaconda3/lib/python3.12/site-packages/keras/src/layers/rnn/rnn.py:200: UserWarning: Do not pass an `input_shape`/`input_dim` argument to a layer. When using Sequential models, prefer using an `Input(shape)` object as the first layer in the model instead.\n",
      "  super().__init__(**kwargs)\n"
     ]
    },
    {
     "name": "stdout",
     "output_type": "stream",
     "text": [
      "\u001b[1m3666/3666\u001b[0m \u001b[32m━━━━━━━━━━━━━━━━━━━━\u001b[0m\u001b[37m\u001b[0m \u001b[1m2s\u001b[0m 578us/step\n"
     ]
    },
    {
     "name": "stderr",
     "output_type": "stream",
     "text": [
      "/opt/anaconda3/lib/python3.12/site-packages/statsmodels/tsa/base/tsa_model.py:473: ValueWarning: An unsupported index was provided and will be ignored when e.g. forecasting.\n",
      "  self._init_dates(dates, freq)\n",
      "/opt/anaconda3/lib/python3.12/site-packages/statsmodels/tsa/base/tsa_model.py:473: ValueWarning: An unsupported index was provided and will be ignored when e.g. forecasting.\n",
      "  self._init_dates(dates, freq)\n",
      "/opt/anaconda3/lib/python3.12/site-packages/statsmodels/tsa/base/tsa_model.py:473: ValueWarning: An unsupported index was provided and will be ignored when e.g. forecasting.\n",
      "  self._init_dates(dates, freq)\n",
      "/opt/anaconda3/lib/python3.12/site-packages/statsmodels/tsa/base/tsa_model.py:836: ValueWarning: No supported index is available. Prediction results will be given with an integer index beginning at `start`.\n",
      "  return get_prediction_index(\n",
      "/opt/anaconda3/lib/python3.12/site-packages/statsmodels/tsa/base/tsa_model.py:836: FutureWarning: No supported index is available. In the next version, calling this method in a model without a supported index will result in an exception.\n",
      "  return get_prediction_index(\n"
     ]
    },
    {
     "name": "stdout",
     "output_type": "stream",
     "text": [
      "     Model      RMSE\n",
      "0  XGBoost  0.603953\n",
      "1     LSTM  1.093826\n",
      "2    ARIMA  1.106431\n"
     ]
    },
    {
     "data": {
      "image/png": "[encoded data removed]",
      "text/plain": [
       "<Figure size 800x500 with 1 Axes>"
      ]
     },
     "metadata": {},
     "output_type": "display_data"
    }
   ],
   "source": [
    "\n",
    "from sklearn.decomposition import PCA\n",
    "from sklearn.model_selection import train_test_split\n",
    "from tensorflow.keras.models import Sequential\n",
    "from tensorflow.keras.layers import Dense, LSTM\n",
    "from tensorflow.keras.optimizers import Adam\n",
    "from statsmodels.tsa.arima.model import ARIMA\n",
    "import numpy as np\n",
    "import matplotlib.pyplot as plt\n",
    "import pandas as pd\n",
    "\n",
    "# Apply PCA to standardized data\n",
    "features = ['orders_lag_1', 'units_lag_1', 'gmv_lag_1']\n",
    "df_standard_scaled = df_standard_scaled.dropna()\n",
    "X_pca = df_standard_scaled[features]\n",
    "y_pca = df_standard_scaled['orders']\n",
    "\n",
    "pca = PCA(n_components=2)\n",
    "X_pca_transformed = pca.fit_transform(X_pca)\n",
    "\n",
    "# Split data\n",
    "X_train, X_test, y_train, y_test = train_test_split(X_pca_transformed, y_pca, test_size=0.2, random_state=42)\n",
    "\n",
    "# XGBoost\n",
    "from xgboost import XGBRegressor\n",
    "xgb = XGBRegressor(n_estimators=100, random_state=42)\n",
    "xgb.fit(X_train, y_train)\n",
    "xgb_preds = xgb.predict(X_test)\n",
    "xgb_rmse = np.sqrt(mean_squared_error(y_test, xgb_preds))\n",
    "\n",
    "# LSTM model\n",
    "X_lstm = np.reshape(X_pca_transformed, (X_pca_transformed.shape[0], 1, X_pca_transformed.shape[1]))\n",
    "X_train_lstm, X_test_lstm = X_lstm[:len(X_train)], X_lstm[len(X_train):]\n",
    "y_train_lstm, y_test_lstm = y_pca[:len(X_train)], y_pca[len(X_train):]\n",
    "\n",
    "lstm_model = Sequential()\n",
    "lstm_model.add(LSTM(50, activation='relu', input_shape=(X_train_lstm.shape[1], X_train_lstm.shape[2])))\n",
    "lstm_model.add(Dense(1))\n",
    "lstm_model.compile(optimizer=Adam(learning_rate=0.01), loss='mse')\n",
    "lstm_model.fit(X_train_lstm, y_train_lstm, epochs=20, verbose=0)\n",
    "\n",
    "lstm_preds = lstm_model.predict(X_test_lstm)\n",
    "lstm_rmse = np.sqrt(mean_squared_error(y_test_lstm, lstm_preds))\n",
    "\n",
    "# ARIMA model (univariate using 'orders')\n",
    "orders_series = df_standard_scaled['orders'].dropna()\n",
    "train_arima, test_arima = orders_series[:-int(0.2*len(orders_series))], orders_series[-int(0.2*len(orders_series)):]\n",
    "\n",
    "arima_model = ARIMA(train_arima, order=(5,1,0))\n",
    "arima_fit = arima_model.fit()\n",
    "arima_preds = arima_fit.forecast(steps=len(test_arima))\n",
    "arima_rmse = np.sqrt(mean_squared_error(test_arima, arima_preds))\n",
    "\n",
    "# Tabular results\n",
    "rmse_results = pd.DataFrame({\n",
    "    'Model': ['XGBoost', 'LSTM', 'ARIMA'],\n",
    "    'RMSE': [xgb_rmse, lstm_rmse, arima_rmse]\n",
    "})\n",
    "print(rmse_results)\n",
    "\n",
    "# Visualization\n",
    "plt.figure(figsize=(8, 5))\n",
    "plt.bar(rmse_results['Model'], rmse_results['RMSE'])\n",
    "plt.title('RMSE Comparison After PCA (Standard Scaled Data)')\n",
    "plt.ylabel('RMSE')\n",
    "plt.grid(True)\n",
    "plt.tight_layout()\n",
    "plt.show()\n"
   ]
  },
  {
   "cell_type": "code",
   "execution_count": 118,
   "id": "31f50cbe-d5ee-408d-bcb9-b3fe0b5295c7",
   "metadata": {},
   "outputs": [
    {
     "name": "stdout",
     "output_type": "stream",
     "text": [
      "\u001b[1m3666/3666\u001b[0m \u001b[32m━━━━━━━━━━━━━━━━━━━━\u001b[0m\u001b[37m\u001b[0m \u001b[1m1s\u001b[0m 364us/step\n",
      "📊 RMSE and MAPE After PCA\n",
      "               Model      RMSE      MAPE\n",
      "0  Linear Regression  0.376152  0.468290\n",
      "1      Random Forest  0.495912  0.537249\n",
      "2            XGBoost  0.603953  0.460389\n",
      "3               LSTM  1.093826  1.124430\n",
      "4              ARIMA  1.106431  2.674897\n"
     ]
    },
    {
     "data": {
      "image/png": "[encoded data removed]",
      "text/plain": [
       "<Figure size 1400x600 with 2 Axes>"
      ]
     },
     "metadata": {},
     "output_type": "display_data"
    }
   ],
   "source": [
    "from sklearn.metrics import mean_squared_error, mean_absolute_percentage_error\n",
    "from sklearn.linear_model import LinearRegression\n",
    "from sklearn.ensemble import RandomForestRegressor\n",
    "\n",
    "# Linear Regression\n",
    "lr = LinearRegression().fit(X_train, y_train)\n",
    "lr_preds = lr.predict(X_test)\n",
    "lr_rmse = np.sqrt(mean_squared_error(y_test, lr_preds))\n",
    "lr_mape = mean_absolute_percentage_error(y_test, lr_preds)\n",
    "\n",
    "# Random Forest\n",
    "rf = RandomForestRegressor(n_estimators=100, random_state=42).fit(X_train, y_train)\n",
    "rf_preds = rf.predict(X_test)\n",
    "rf_rmse = np.sqrt(mean_squared_error(y_test, rf_preds))\n",
    "rf_mape = mean_absolute_percentage_error(y_test, rf_preds)\n",
    "\n",
    "# XGBoost\n",
    "xgb_preds = xgb.predict(X_test)\n",
    "xgb_rmse = np.sqrt(mean_squared_error(y_test, xgb_preds))\n",
    "xgb_mape = mean_absolute_percentage_error(y_test, xgb_preds)\n",
    "\n",
    "# LSTM\n",
    "lstm_preds = lstm_model.predict(X_test_lstm).flatten()\n",
    "lstm_rmse = np.sqrt(mean_squared_error(y_test_lstm, lstm_preds))\n",
    "lstm_mape = mean_absolute_percentage_error(y_test_lstm, lstm_preds)\n",
    "\n",
    "# ARIMA\n",
    "arima_rmse = np.sqrt(mean_squared_error(test_arima, arima_preds))\n",
    "arima_mape = mean_absolute_percentage_error(test_arima, arima_preds)\n",
    "\n",
    "# Results Table\n",
    "import pandas as pd\n",
    "results_df = pd.DataFrame({\n",
    "    'Model': ['Linear Regression', 'Random Forest', 'XGBoost', 'LSTM', 'ARIMA'],\n",
    "    'RMSE': [lr_rmse, rf_rmse, xgb_rmse, lstm_rmse, arima_rmse],\n",
    "    'MAPE': [lr_mape, rf_mape, xgb_mape, lstm_mape, arima_mape]\n",
    "})\n",
    "\n",
    "print(\" RMSE and MAPE After PCA\")\n",
    "print(results_df)\n",
    "\n",
    "# Visualization\n",
    "import matplotlib.pyplot as plt\n",
    "fig, ax = plt.subplots(1, 2, figsize=(14, 6))\n",
    "\n",
    "# RMSE Bar Plot\n",
    "ax[0].bar(results_df['Model'], results_df['RMSE'])\n",
    "ax[0].set_title('RMSE Comparison (After PCA)')\n",
    "ax[0].set_ylabel('RMSE')\n",
    "ax[0].grid(True)\n",
    "\n",
    "# MAPE Bar Plot\n",
    "ax[1].bar(results_df['Model'], results_df['MAPE'])\n",
    "ax[1].set_title('MAPE Comparison (After PCA)')\n",
    "ax[1].set_ylabel('MAPE')\n",
    "ax[1].grid(True)\n",
    "\n",
    "plt.tight_layout()\n",
    "plt.show()\n"
   ]
  },
  {
   "cell_type": "code",
   "execution_count": 122,
   "id": "fa41c228-db90-44ba-a686-161be9c9456b",
   "metadata": {},
   "outputs": [],
   "source": [
    "## add information about seasonality, add graphs with seasonality and periodicity"
   ]
  },
  {
   "cell_type": "code",
   "execution_count": 124,
   "id": "56c9dcb6-b535-4a47-8ffc-6e3efa99ac75",
   "metadata": {},
   "outputs": [
    {
     "name": "stdout",
     "output_type": "stream",
     "text": [
      "📊 Forecasting Metrics Comparison\n"
     ]
    },
    {
     "data": {
      "text/html": [
       "<div>\n",
       "<style scoped>\n",
       "    .dataframe tbody tr th:only-of-type {\n",
       "        vertical-align: middle;\n",
       "    }\n",
       "\n",
       "    .dataframe tbody tr th {\n",
       "        vertical-align: top;\n",
       "    }\n",
       "\n",
       "    .dataframe thead th {\n",
       "        text-align: right;\n",
       "    }\n",
       "</style>\n",
       "<table border=\"1\" class=\"dataframe\">\n",
       "  <thead>\n",
       "    <tr style=\"text-align: right;\">\n",
       "      <th></th>\n",
       "      <th>Model</th>\n",
       "      <th>RMSE</th>\n",
       "      <th>MAE</th>\n",
       "      <th>MAPE</th>\n",
       "      <th>SMAPE</th>\n",
       "      <th>R2 Score</th>\n",
       "    </tr>\n",
       "  </thead>\n",
       "  <tbody>\n",
       "    <tr>\n",
       "      <th>0</th>\n",
       "      <td>Linear Regression</td>\n",
       "      <td>0.376152</td>\n",
       "      <td>0.043856</td>\n",
       "      <td>0.468290</td>\n",
       "      <td>18.325336</td>\n",
       "      <td>0.848562</td>\n",
       "    </tr>\n",
       "    <tr>\n",
       "      <th>1</th>\n",
       "      <td>Random Forest</td>\n",
       "      <td>0.495912</td>\n",
       "      <td>0.044877</td>\n",
       "      <td>0.537249</td>\n",
       "      <td>15.634131</td>\n",
       "      <td>0.736782</td>\n",
       "    </tr>\n",
       "    <tr>\n",
       "      <th>2</th>\n",
       "      <td>XGBoost</td>\n",
       "      <td>0.603953</td>\n",
       "      <td>0.049275</td>\n",
       "      <td>0.460389</td>\n",
       "      <td>14.451708</td>\n",
       "      <td>0.609598</td>\n",
       "    </tr>\n",
       "    <tr>\n",
       "      <th>3</th>\n",
       "      <td>LSTM</td>\n",
       "      <td>1.093826</td>\n",
       "      <td>0.240861</td>\n",
       "      <td>1.124430</td>\n",
       "      <td>158.880027</td>\n",
       "      <td>-0.002903</td>\n",
       "    </tr>\n",
       "    <tr>\n",
       "      <th>4</th>\n",
       "      <td>ARIMA</td>\n",
       "      <td>1.106431</td>\n",
       "      <td>0.177027</td>\n",
       "      <td>2.674897</td>\n",
       "      <td>43.340325</td>\n",
       "      <td>-0.026142</td>\n",
       "    </tr>\n",
       "  </tbody>\n",
       "</table>\n",
       "</div>"
      ],
      "text/plain": [
       "               Model      RMSE       MAE      MAPE       SMAPE  R2 Score\n",
       "0  Linear Regression  0.376152  0.043856  0.468290   18.325336  0.848562\n",
       "1      Random Forest  0.495912  0.044877  0.537249   15.634131  0.736782\n",
       "2            XGBoost  0.603953  0.049275  0.460389   14.451708  0.609598\n",
       "3               LSTM  1.093826  0.240861  1.124430  158.880027 -0.002903\n",
       "4              ARIMA  1.106431  0.177027  2.674897   43.340325 -0.026142"
      ]
     },
     "metadata": {},
     "output_type": "display_data"
    },
    {
     "data": {
      "image/png": "[encoded data removed]",
      "text/plain": [
       "<Figure size 1200x600 with 1 Axes>"
      ]
     },
     "metadata": {},
     "output_type": "display_data"
    }
   ],
   "source": [
    "from sklearn.metrics import mean_absolute_error, mean_squared_error, r2_score\n",
    "import numpy as np\n",
    "\n",
    "# Custom SMAPE function\n",
    "def smape(y_true, y_pred):\n",
    "    denominator = (np.abs(y_true) + np.abs(y_pred)) / 2\n",
    "    diff = np.abs(y_true - y_pred) / denominator\n",
    "    diff[denominator == 0] = 0.0  # Avoid divide-by-zero\n",
    "    return np.mean(diff) * 100\n",
    "\n",
    "# Build metrics DataFrame\n",
    "def evaluate_forecast(y_true, y_pred, model_name):\n",
    "    return {\n",
    "        \"Model\": model_name,\n",
    "        \"RMSE\": np.sqrt(mean_squared_error(y_true, y_pred)),\n",
    "        \"MAE\": mean_absolute_error(y_true, y_pred),\n",
    "        \"MAPE\": mean_absolute_percentage_error(y_true, y_pred),\n",
    "        \"SMAPE\": smape(np.array(y_true), np.array(y_pred)),\n",
    "        \"R2 Score\": r2_score(y_true, y_pred)\n",
    "    }\n",
    "\n",
    "# Evaluate each model (assumes all y_test/preds are already defined)\n",
    "metrics_list = [\n",
    "    evaluate_forecast(y_test, lr_preds, \"Linear Regression\"),\n",
    "    evaluate_forecast(y_test, rf_preds, \"Random Forest\"),\n",
    "    evaluate_forecast(y_test, xgb_preds, \"XGBoost\"),\n",
    "    evaluate_forecast(y_test_lstm, lstm_preds, \"LSTM\"),\n",
    "    evaluate_forecast(test_arima, arima_preds, \"ARIMA\"),\n",
    "]\n",
    "\n",
    "metrics_df = pd.DataFrame(metrics_list)\n",
    "\n",
    "# Display metrics\n",
    "print(\" Forecasting Metrics Comparison\")\n",
    "display(metrics_df)\n",
    "\n",
    "# Optional: Plot a few metrics\n",
    "metrics_df.set_index(\"Model\")[[\"RMSE\", \"MAE\", \"MAPE\", \"SMAPE\"]].plot(kind='bar', figsize=(12, 6))\n",
    "plt.title(\"Forecasting Error Metrics by Model\")\n",
    "plt.ylabel(\"Error\")\n",
    "plt.grid(True)\n",
    "plt.tight_layout()\n",
    "plt.show()\n"
   ]
  },
  {
   "cell_type": "code",
   "execution_count": 126,
   "id": "3e88c3c4-3e68-4ff5-80b0-0b45490d7997",
   "metadata": {},
   "outputs": [
    {
     "name": "stdout",
     "output_type": "stream",
     "text": [
      "\n",
      "🔍 Evaluation for Random Forest\n",
      "RMSE: 12298.63\n",
      "MAE: 1364.56\n",
      "R² Score: 0.95\n",
      "\n",
      "🔍 Evaluation for XGBoost\n",
      "RMSE: 29017.61\n",
      "MAE: 2001.61\n",
      "R² Score: 0.70\n"
     ]
    }
   ],
   "source": [
    "#  Sales Forecasting using ML: Random Forest and XGBoost\n",
    "import pandas as pd\n",
    "import numpy as np\n",
    "from sklearn.model_selection import train_test_split\n",
    "from sklearn.ensemble import RandomForestRegressor\n",
    "from xgboost import XGBRegressor\n",
    "from sklearn.metrics import mean_squared_error, mean_absolute_error, r2_score\n",
    "\n",
    "# STEP 1: Define the features and target\n",
    "features = ['orders_lag_1', 'units_lag_1', 'gmv_lag_1',\n",
    "            'orders_ma_3', 'units_ma_3', 'gmv_ma_3']\n",
    "target = 'orders'\n",
    "\n",
    "# STEP 2: Drop rows with missing values caused by lag/moving avg\n",
    "df_model = df_sampled.dropna(subset=features + [target])\n",
    "\n",
    "# STEP 3: Split into X (features) and y (target)\n",
    "X = df_model[features]\n",
    "y = df_model[target]\n",
    "\n",
    "# STEP 4: Train-Test Split\n",
    "X_train, X_test, y_train, y_test = train_test_split(\n",
    "    X, y, test_size=0.2, random_state=42\n",
    ")\n",
    "\n",
    "# STEP 5a: Train Random Forest\n",
    "rf_model = RandomForestRegressor(n_estimators=100, random_state=42)\n",
    "rf_model.fit(X_train, y_train)\n",
    "rf_preds = rf_model.predict(X_test)\n",
    "\n",
    "# STEP 5b: Train XGBoost\n",
    "xgb_model = XGBRegressor(n_estimators=100, random_state=42)\n",
    "xgb_model.fit(X_train, y_train)\n",
    "xgb_preds = xgb_model.predict(X_test)\n",
    "\n",
    "# STEP 6: Evaluation Function\n",
    "def evaluate_model(name, y_true, y_pred):\n",
    "    print(f\"\\n Evaluation for {name}\")\n",
    "    print(f\"RMSE: {np.sqrt(mean_squared_error(y_true, y_pred)):.2f}\")\n",
    "    print(f\"MAE: {mean_absolute_error(y_true, y_pred):.2f}\")\n",
    "    print(f\"R² Score: {r2_score(y_true, y_pred):.2f}\")\n",
    "\n",
    "# STEP 7: Evaluate Both Models\n",
    "evaluate_model(\"Random Forest\", y_test, rf_preds)\n",
    "evaluate_model(\"XGBoost\", y_test, xgb_preds)\n"
   ]
  },
  {
   "cell_type": "code",
   "execution_count": null,
   "id": "eb35bdcf",
   "metadata": {},
   "outputs": [],
   "source": []
  }
 ],
 "metadata": {
  "kernelspec": {
   "display_name": "Python 3 (ipykernel)",
   "language": "python",
   "name": "python3"
  },
  "language_info": {
   "codemirror_mode": {
    "name": "ipython",
    "version": 3
   },
   "file_extension": ".py",
   "mimetype": "text/x-python",
   "name": "python",
   "nbconvert_exporter": "python",
   "pygments_lexer": "ipython3",
   "version": "3.11.5"
  }
 },
 "nbformat": 4,
 "nbformat_minor": 5
}
